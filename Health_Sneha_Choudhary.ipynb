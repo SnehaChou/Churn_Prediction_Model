{
 "cells": [
  {
   "cell_type": "code",
   "execution_count": 1,
   "metadata": {},
   "outputs": [],
   "source": [
    "import pandas as pd\n",
    "import matplotlib.pyplot as plt\n",
    "import seaborn as sns\n",
    "import numpy as np\n",
    "from sklearn.preprocessing import StandardScaler\n",
    "from sklearn.metrics import precision_recall_curve\n",
    "from matplotlib import pyplot\n",
    "from sklearn.metrics import roc_curve\n",
    "from sklearn.metrics import roc_auc_score\n",
    "from sklearn.metrics import classification_report\n",
    "from sklearn.metrics import accuracy_score\n",
    "from sklearn.model_selection import GridSearchCV\n",
    "from sklearn.ensemble import RandomForestClassifier\n",
    "from sklearn.model_selection import cross_val_score\n",
    "from sklearn.neighbors import KNeighborsClassifier\n",
    "from sklearn.metrics import f1_score\n",
    "from sklearn.metrics import auc"
   ]
  },
  {
   "cell_type": "code",
   "execution_count": 278,
   "metadata": {},
   "outputs": [
    {
     "data": {
      "text/html": [
       "<div>\n",
       "<style scoped>\n",
       "    .dataframe tbody tr th:only-of-type {\n",
       "        vertical-align: middle;\n",
       "    }\n",
       "\n",
       "    .dataframe tbody tr th {\n",
       "        vertical-align: top;\n",
       "    }\n",
       "\n",
       "    .dataframe thead th {\n",
       "        text-align: right;\n",
       "    }\n",
       "</style>\n",
       "<table border=\"1\" class=\"dataframe\">\n",
       "  <thead>\n",
       "    <tr style=\"text-align: right;\">\n",
       "      <th></th>\n",
       "      <th>MEMBER_ID</th>\n",
       "      <th>LOB</th>\n",
       "      <th>Voluntary</th>\n",
       "      <th>churned</th>\n",
       "      <th>Tenure</th>\n",
       "      <th>hadGap.</th>\n",
       "      <th>Age</th>\n",
       "      <th>SDOHScore</th>\n",
       "      <th>conditionScore</th>\n",
       "      <th>substanceScore</th>\n",
       "      <th>physFrailtyScore</th>\n",
       "      <th>mentalFrailtyScore</th>\n",
       "      <th>EDCost</th>\n",
       "      <th>EDCount</th>\n",
       "      <th>IPCost</th>\n",
       "      <th>IPCount</th>\n",
       "      <th>State</th>\n",
       "    </tr>\n",
       "  </thead>\n",
       "  <tbody>\n",
       "    <tr>\n",
       "      <th>0</th>\n",
       "      <td>7ea90bb64201ddaf463eb9419ad990d9</td>\n",
       "      <td>LOB2</td>\n",
       "      <td>NaN</td>\n",
       "      <td>0</td>\n",
       "      <td>49</td>\n",
       "      <td>0</td>\n",
       "      <td>59</td>\n",
       "      <td>0.018738</td>\n",
       "      <td>0.0</td>\n",
       "      <td>0.0</td>\n",
       "      <td>0.0</td>\n",
       "      <td>0.0</td>\n",
       "      <td>0.0</td>\n",
       "      <td>0.0</td>\n",
       "      <td>0.0</td>\n",
       "      <td>0.0</td>\n",
       "      <td>PA</td>\n",
       "    </tr>\n",
       "    <tr>\n",
       "      <th>1</th>\n",
       "      <td>6319ce06253302493c1fe5d57d57aba7</td>\n",
       "      <td>LOB1</td>\n",
       "      <td>NaN</td>\n",
       "      <td>0</td>\n",
       "      <td>49</td>\n",
       "      <td>0</td>\n",
       "      <td>80</td>\n",
       "      <td>0.012270</td>\n",
       "      <td>0.0</td>\n",
       "      <td>0.0</td>\n",
       "      <td>0.0</td>\n",
       "      <td>0.0</td>\n",
       "      <td>0.0</td>\n",
       "      <td>0.0</td>\n",
       "      <td>0.0</td>\n",
       "      <td>0.0</td>\n",
       "      <td>PA</td>\n",
       "    </tr>\n",
       "    <tr>\n",
       "      <th>2</th>\n",
       "      <td>e7c98ad14a283b1bb751dd73b76f1ef9</td>\n",
       "      <td>LOB1</td>\n",
       "      <td>NaN</td>\n",
       "      <td>0</td>\n",
       "      <td>49</td>\n",
       "      <td>0</td>\n",
       "      <td>45</td>\n",
       "      <td>0.000435</td>\n",
       "      <td>0.0</td>\n",
       "      <td>0.0</td>\n",
       "      <td>0.0</td>\n",
       "      <td>0.0</td>\n",
       "      <td>0.0</td>\n",
       "      <td>0.0</td>\n",
       "      <td>0.0</td>\n",
       "      <td>0.0</td>\n",
       "      <td>PA</td>\n",
       "    </tr>\n",
       "    <tr>\n",
       "      <th>3</th>\n",
       "      <td>6189fb5bf21454cb7c01f15cb1bb78ec</td>\n",
       "      <td>LOB4</td>\n",
       "      <td>NaN</td>\n",
       "      <td>0</td>\n",
       "      <td>49</td>\n",
       "      <td>0</td>\n",
       "      <td>25</td>\n",
       "      <td>0.033174</td>\n",
       "      <td>0.0</td>\n",
       "      <td>0.0</td>\n",
       "      <td>0.0</td>\n",
       "      <td>0.0</td>\n",
       "      <td>0.0</td>\n",
       "      <td>0.0</td>\n",
       "      <td>0.0</td>\n",
       "      <td>0.0</td>\n",
       "      <td>NC</td>\n",
       "    </tr>\n",
       "    <tr>\n",
       "      <th>4</th>\n",
       "      <td>8793004f217e16c695b043fa78b9c74b</td>\n",
       "      <td>LOB5</td>\n",
       "      <td>NaN</td>\n",
       "      <td>0</td>\n",
       "      <td>49</td>\n",
       "      <td>0</td>\n",
       "      <td>66</td>\n",
       "      <td>0.405166</td>\n",
       "      <td>0.0</td>\n",
       "      <td>0.0</td>\n",
       "      <td>0.0</td>\n",
       "      <td>0.0</td>\n",
       "      <td>0.0</td>\n",
       "      <td>0.0</td>\n",
       "      <td>0.0</td>\n",
       "      <td>0.0</td>\n",
       "      <td>OH</td>\n",
       "    </tr>\n",
       "  </tbody>\n",
       "</table>\n",
       "</div>"
      ],
      "text/plain": [
       "                          MEMBER_ID   LOB Voluntary  churned  Tenure  hadGap.  \\\n",
       "0  7ea90bb64201ddaf463eb9419ad990d9  LOB2       NaN        0      49        0   \n",
       "1  6319ce06253302493c1fe5d57d57aba7  LOB1       NaN        0      49        0   \n",
       "2  e7c98ad14a283b1bb751dd73b76f1ef9  LOB1       NaN        0      49        0   \n",
       "3  6189fb5bf21454cb7c01f15cb1bb78ec  LOB4       NaN        0      49        0   \n",
       "4  8793004f217e16c695b043fa78b9c74b  LOB5       NaN        0      49        0   \n",
       "\n",
       "   Age  SDOHScore  conditionScore  substanceScore  physFrailtyScore  \\\n",
       "0   59   0.018738             0.0             0.0               0.0   \n",
       "1   80   0.012270             0.0             0.0               0.0   \n",
       "2   45   0.000435             0.0             0.0               0.0   \n",
       "3   25   0.033174             0.0             0.0               0.0   \n",
       "4   66   0.405166             0.0             0.0               0.0   \n",
       "\n",
       "   mentalFrailtyScore  EDCost  EDCount  IPCost  IPCount State  \n",
       "0                 0.0     0.0      0.0     0.0      0.0    PA  \n",
       "1                 0.0     0.0      0.0     0.0      0.0    PA  \n",
       "2                 0.0     0.0      0.0     0.0      0.0    PA  \n",
       "3                 0.0     0.0      0.0     0.0      0.0    NC  \n",
       "4                 0.0     0.0      0.0     0.0      0.0    OH  "
      ]
     },
     "execution_count": 278,
     "metadata": {},
     "output_type": "execute_result"
    }
   ],
   "source": [
    "df = pd.read_csv('DataScience-Data.csv')\n",
    "df.head()"
   ]
  },
  {
   "cell_type": "code",
   "execution_count": 279,
   "metadata": {},
   "outputs": [
    {
     "data": {
      "text/plain": [
       "(76995, 17)"
      ]
     },
     "execution_count": 279,
     "metadata": {},
     "output_type": "execute_result"
    }
   ],
   "source": [
    "df.shape"
   ]
  },
  {
   "cell_type": "markdown",
   "metadata": {},
   "source": [
    "# Removing Duplicate Member_ID rows"
   ]
  },
  {
   "cell_type": "code",
   "execution_count": 280,
   "metadata": {},
   "outputs": [
    {
     "name": "stdout",
     "output_type": "stream",
     "text": [
      "There are  4806  members for whom member id is not unique\n"
     ]
    }
   ],
   "source": [
    "print(\"There are \",df.shape[0]- len(df['MEMBER_ID'].unique()),\" members for whom member id is not unique\")"
   ]
  },
  {
   "cell_type": "code",
   "execution_count": 281,
   "metadata": {},
   "outputs": [
    {
     "name": "stdout",
     "output_type": "stream",
     "text": [
      "                              MEMBER_ID   LOB                       Voluntary  \\\n",
      "62     e76c6488074d133c5878dccb780c2969  LOB1                       Voluntary   \n",
      "63     e76c6488074d133c5878dccb780c2969  LOB1                             NaN   \n",
      "582    e5467ea8f90726966cb867494b2b73c0  LOB1                       Voluntary   \n",
      "583    e5467ea8f90726966cb867494b2b73c0  LOB1                             NaN   \n",
      "664    90a43963e0f38151f4534f919a502f01  LOB1                       Voluntary   \n",
      "...                                 ...   ...                             ...   \n",
      "76950  df6305d7143a7a4eb3e3f25a0e420436  LOB1                             NaN   \n",
      "76959  9631c11dcd0f990c08a9c1a89831f634  LOB1                       Voluntary   \n",
      "76960  9631c11dcd0f990c08a9c1a89831f634  LOB1                             NaN   \n",
      "76962  f2abd8dda33d586e0e181a804a5e1692  LOB1  Involuntary - Medicare / Other   \n",
      "76963  f2abd8dda33d586e0e181a804a5e1692  LOB1                       Voluntary   \n",
      "\n",
      "       churned  Tenure  hadGap.  Age  SDOHScore  conditionScore  \\\n",
      "62           1      30        0   45   0.134890             0.0   \n",
      "63           0      30        0   45   0.134890             0.0   \n",
      "582          1      60        0   90   0.278415             0.0   \n",
      "583          0      60        0   90   0.278415             0.0   \n",
      "664          1      60        0   54   0.006324             0.0   \n",
      "...        ...     ...      ...  ...        ...             ...   \n",
      "76950        0    4198        0   43   0.000000             0.0   \n",
      "76959        1    4290        0   40   0.303559             0.0   \n",
      "76960        0    4290        0   40   0.303559             0.0   \n",
      "76962        1     211        1   50   0.033434             0.0   \n",
      "76963        1     211        1   50   0.033434             0.0   \n",
      "\n",
      "       substanceScore  physFrailtyScore  mentalFrailtyScore   EDCost  EDCount  \\\n",
      "62                0.0               0.0                 0.0      NaN      NaN   \n",
      "63                0.0               0.0                 0.0     0.00      0.0   \n",
      "582               0.0               0.0                 0.0      NaN      NaN   \n",
      "583               0.0               0.0                 0.0     0.00      0.0   \n",
      "664               0.0               0.0                 0.5      NaN      NaN   \n",
      "...               ...               ...                 ...      ...      ...   \n",
      "76950             0.0               0.0                 0.0     0.00      0.0   \n",
      "76959             0.0               0.0                 0.5      NaN      NaN   \n",
      "76960             0.0               0.0                 0.5     0.00      0.0   \n",
      "76962             0.0               0.0                 0.5  1629.71      5.0   \n",
      "76963             0.0               0.0                 0.5  1629.71      5.0   \n",
      "\n",
      "        IPCost  IPCount State  \n",
      "62         NaN      NaN    PA  \n",
      "63        0.00      0.0    PA  \n",
      "582        NaN      NaN    PA  \n",
      "583       0.00      0.0    PA  \n",
      "664        NaN      NaN    PA  \n",
      "...        ...      ...   ...  \n",
      "76950     0.00      0.0    PA  \n",
      "76959      NaN      NaN    PA  \n",
      "76960     0.00      0.0    PA  \n",
      "76962  5009.76      1.0    PA  \n",
      "76963  5009.76      1.0    PA  \n",
      "\n",
      "[9275 rows x 17 columns]\n"
     ]
    }
   ],
   "source": [
    "print(df[df.duplicated(subset=['MEMBER_ID'],keep=False)])"
   ]
  },
  {
   "cell_type": "markdown",
   "metadata": {},
   "source": [
    "There are 2 kinds of duplicates:\n",
    "    1. All the fields are the same\n",
    "    2. For some members, they have 2 rows one with churn and other without churn. Given the data it is not possible to determine which row information is correct, since rest of the variables are the same.\n",
    "    Hence removing both the rows. "
   ]
  },
  {
   "cell_type": "code",
   "execution_count": 282,
   "metadata": {},
   "outputs": [
    {
     "name": "stdout",
     "output_type": "stream",
     "text": [
      "len before 76995\n",
      "len after 75716\n"
     ]
    }
   ],
   "source": [
    "print(\"len before\",len(df))\n",
    "df.drop_duplicates(subset=['MEMBER_ID','churned'],inplace= True)\n",
    "print(\"len after\", len(df))"
   ]
  },
  {
   "cell_type": "code",
   "execution_count": 283,
   "metadata": {},
   "outputs": [
    {
     "name": "stdout",
     "output_type": "stream",
     "text": [
      "                              MEMBER_ID   LOB          Voluntary  churned  \\\n",
      "62     e76c6488074d133c5878dccb780c2969  LOB1          Voluntary        1   \n",
      "63     e76c6488074d133c5878dccb780c2969  LOB1                NaN        0   \n",
      "582    e5467ea8f90726966cb867494b2b73c0  LOB1          Voluntary        1   \n",
      "583    e5467ea8f90726966cb867494b2b73c0  LOB1                NaN        0   \n",
      "664    90a43963e0f38151f4534f919a502f01  LOB1          Voluntary        1   \n",
      "...                                 ...   ...                ...      ...   \n",
      "76941  d859ec4e596a8a1d660bc1f32adbbcda  LOB1                NaN        0   \n",
      "76949  df6305d7143a7a4eb3e3f25a0e420436  LOB1  Involuntary - SNP        1   \n",
      "76950  df6305d7143a7a4eb3e3f25a0e420436  LOB1                NaN        0   \n",
      "76959  9631c11dcd0f990c08a9c1a89831f634  LOB1          Voluntary        1   \n",
      "76960  9631c11dcd0f990c08a9c1a89831f634  LOB1                NaN        0   \n",
      "\n",
      "       Tenure  hadGap.  Age  SDOHScore  conditionScore  substanceScore  \\\n",
      "62         30        0   45   0.134890             0.0             0.0   \n",
      "63         30        0   45   0.134890             0.0             0.0   \n",
      "582        60        0   90   0.278415             0.0             0.0   \n",
      "583        60        0   90   0.278415             0.0             0.0   \n",
      "664        60        0   54   0.006324             0.0             0.0   \n",
      "...       ...      ...  ...        ...             ...             ...   \n",
      "76941     699        1   47   0.112190             0.0             0.0   \n",
      "76949    4198        0   43   0.000000             0.0             0.0   \n",
      "76950    4198        0   43   0.000000             0.0             0.0   \n",
      "76959    4290        0   40   0.303559             0.0             0.0   \n",
      "76960    4290        0   40   0.303559             0.0             0.0   \n",
      "\n",
      "       physFrailtyScore  mentalFrailtyScore  EDCost  EDCount  IPCost  IPCount  \\\n",
      "62             0.000000                 0.0     NaN      NaN     NaN      NaN   \n",
      "63             0.000000                 0.0    0.00      0.0     0.0      0.0   \n",
      "582            0.000000                 0.0     NaN      NaN     NaN      NaN   \n",
      "583            0.000000                 0.0    0.00      0.0     0.0      0.0   \n",
      "664            0.000000                 0.5     NaN      NaN     NaN      NaN   \n",
      "...                 ...                 ...     ...      ...     ...      ...   \n",
      "76941          0.111111                 0.0    0.00      0.0     0.0      0.0   \n",
      "76949          0.000000                 0.0   68.33      1.0     0.0      0.0   \n",
      "76950          0.000000                 0.0    0.00      0.0     0.0      0.0   \n",
      "76959          0.000000                 0.5     NaN      NaN     NaN      NaN   \n",
      "76960          0.000000                 0.5    0.00      0.0     0.0      0.0   \n",
      "\n",
      "      State  \n",
      "62       PA  \n",
      "63       PA  \n",
      "582      PA  \n",
      "583      PA  \n",
      "664      PA  \n",
      "...     ...  \n",
      "76941    PA  \n",
      "76949    PA  \n",
      "76950    PA  \n",
      "76959    PA  \n",
      "76960    PA  \n",
      "\n",
      "[7054 rows x 17 columns]\n"
     ]
    }
   ],
   "source": [
    "print(df[df.duplicated(subset=['MEMBER_ID'],keep=False)])"
   ]
  },
  {
   "cell_type": "code",
   "execution_count": 284,
   "metadata": {},
   "outputs": [
    {
     "data": {
      "text/html": [
       "<div>\n",
       "<style scoped>\n",
       "    .dataframe tbody tr th:only-of-type {\n",
       "        vertical-align: middle;\n",
       "    }\n",
       "\n",
       "    .dataframe tbody tr th {\n",
       "        vertical-align: top;\n",
       "    }\n",
       "\n",
       "    .dataframe thead th {\n",
       "        text-align: right;\n",
       "    }\n",
       "</style>\n",
       "<table border=\"1\" class=\"dataframe\">\n",
       "  <thead>\n",
       "    <tr style=\"text-align: right;\">\n",
       "      <th></th>\n",
       "      <th>MEMBER_ID</th>\n",
       "      <th>LOB</th>\n",
       "      <th>Voluntary</th>\n",
       "      <th>churned</th>\n",
       "      <th>Tenure</th>\n",
       "      <th>hadGap.</th>\n",
       "      <th>Age</th>\n",
       "      <th>SDOHScore</th>\n",
       "      <th>conditionScore</th>\n",
       "      <th>substanceScore</th>\n",
       "      <th>physFrailtyScore</th>\n",
       "      <th>mentalFrailtyScore</th>\n",
       "      <th>EDCost</th>\n",
       "      <th>EDCount</th>\n",
       "      <th>IPCost</th>\n",
       "      <th>IPCount</th>\n",
       "      <th>State</th>\n",
       "    </tr>\n",
       "  </thead>\n",
       "  <tbody>\n",
       "    <tr>\n",
       "      <th>0</th>\n",
       "      <td>7ea90bb64201ddaf463eb9419ad990d9</td>\n",
       "      <td>LOB2</td>\n",
       "      <td>NaN</td>\n",
       "      <td>0</td>\n",
       "      <td>49</td>\n",
       "      <td>0</td>\n",
       "      <td>59</td>\n",
       "      <td>0.018738</td>\n",
       "      <td>0.0</td>\n",
       "      <td>0.0</td>\n",
       "      <td>0.0</td>\n",
       "      <td>0.0</td>\n",
       "      <td>0.0</td>\n",
       "      <td>0.0</td>\n",
       "      <td>0.0</td>\n",
       "      <td>0.0</td>\n",
       "      <td>PA</td>\n",
       "    </tr>\n",
       "    <tr>\n",
       "      <th>1</th>\n",
       "      <td>6319ce06253302493c1fe5d57d57aba7</td>\n",
       "      <td>LOB1</td>\n",
       "      <td>NaN</td>\n",
       "      <td>0</td>\n",
       "      <td>49</td>\n",
       "      <td>0</td>\n",
       "      <td>80</td>\n",
       "      <td>0.012270</td>\n",
       "      <td>0.0</td>\n",
       "      <td>0.0</td>\n",
       "      <td>0.0</td>\n",
       "      <td>0.0</td>\n",
       "      <td>0.0</td>\n",
       "      <td>0.0</td>\n",
       "      <td>0.0</td>\n",
       "      <td>0.0</td>\n",
       "      <td>PA</td>\n",
       "    </tr>\n",
       "    <tr>\n",
       "      <th>2</th>\n",
       "      <td>e7c98ad14a283b1bb751dd73b76f1ef9</td>\n",
       "      <td>LOB1</td>\n",
       "      <td>NaN</td>\n",
       "      <td>0</td>\n",
       "      <td>49</td>\n",
       "      <td>0</td>\n",
       "      <td>45</td>\n",
       "      <td>0.000435</td>\n",
       "      <td>0.0</td>\n",
       "      <td>0.0</td>\n",
       "      <td>0.0</td>\n",
       "      <td>0.0</td>\n",
       "      <td>0.0</td>\n",
       "      <td>0.0</td>\n",
       "      <td>0.0</td>\n",
       "      <td>0.0</td>\n",
       "      <td>PA</td>\n",
       "    </tr>\n",
       "    <tr>\n",
       "      <th>3</th>\n",
       "      <td>6189fb5bf21454cb7c01f15cb1bb78ec</td>\n",
       "      <td>LOB4</td>\n",
       "      <td>NaN</td>\n",
       "      <td>0</td>\n",
       "      <td>49</td>\n",
       "      <td>0</td>\n",
       "      <td>25</td>\n",
       "      <td>0.033174</td>\n",
       "      <td>0.0</td>\n",
       "      <td>0.0</td>\n",
       "      <td>0.0</td>\n",
       "      <td>0.0</td>\n",
       "      <td>0.0</td>\n",
       "      <td>0.0</td>\n",
       "      <td>0.0</td>\n",
       "      <td>0.0</td>\n",
       "      <td>NC</td>\n",
       "    </tr>\n",
       "    <tr>\n",
       "      <th>4</th>\n",
       "      <td>8793004f217e16c695b043fa78b9c74b</td>\n",
       "      <td>LOB5</td>\n",
       "      <td>NaN</td>\n",
       "      <td>0</td>\n",
       "      <td>49</td>\n",
       "      <td>0</td>\n",
       "      <td>66</td>\n",
       "      <td>0.405166</td>\n",
       "      <td>0.0</td>\n",
       "      <td>0.0</td>\n",
       "      <td>0.0</td>\n",
       "      <td>0.0</td>\n",
       "      <td>0.0</td>\n",
       "      <td>0.0</td>\n",
       "      <td>0.0</td>\n",
       "      <td>0.0</td>\n",
       "      <td>OH</td>\n",
       "    </tr>\n",
       "  </tbody>\n",
       "</table>\n",
       "</div>"
      ],
      "text/plain": [
       "                          MEMBER_ID   LOB Voluntary  churned  Tenure  hadGap.  \\\n",
       "0  7ea90bb64201ddaf463eb9419ad990d9  LOB2       NaN        0      49        0   \n",
       "1  6319ce06253302493c1fe5d57d57aba7  LOB1       NaN        0      49        0   \n",
       "2  e7c98ad14a283b1bb751dd73b76f1ef9  LOB1       NaN        0      49        0   \n",
       "3  6189fb5bf21454cb7c01f15cb1bb78ec  LOB4       NaN        0      49        0   \n",
       "4  8793004f217e16c695b043fa78b9c74b  LOB5       NaN        0      49        0   \n",
       "\n",
       "   Age  SDOHScore  conditionScore  substanceScore  physFrailtyScore  \\\n",
       "0   59   0.018738             0.0             0.0               0.0   \n",
       "1   80   0.012270             0.0             0.0               0.0   \n",
       "2   45   0.000435             0.0             0.0               0.0   \n",
       "3   25   0.033174             0.0             0.0               0.0   \n",
       "4   66   0.405166             0.0             0.0               0.0   \n",
       "\n",
       "   mentalFrailtyScore  EDCost  EDCount  IPCost  IPCount State  \n",
       "0                 0.0     0.0      0.0     0.0      0.0    PA  \n",
       "1                 0.0     0.0      0.0     0.0      0.0    PA  \n",
       "2                 0.0     0.0      0.0     0.0      0.0    PA  \n",
       "3                 0.0     0.0      0.0     0.0      0.0    NC  \n",
       "4                 0.0     0.0      0.0     0.0      0.0    OH  "
      ]
     },
     "execution_count": 284,
     "metadata": {},
     "output_type": "execute_result"
    }
   ],
   "source": [
    "df = df[~(df.duplicated(subset=['MEMBER_ID'],keep=False))]\n",
    "df.head()"
   ]
  },
  {
   "cell_type": "code",
   "execution_count": 285,
   "metadata": {},
   "outputs": [
    {
     "data": {
      "text/html": [
       "<div>\n",
       "<style scoped>\n",
       "    .dataframe tbody tr th:only-of-type {\n",
       "        vertical-align: middle;\n",
       "    }\n",
       "\n",
       "    .dataframe tbody tr th {\n",
       "        vertical-align: top;\n",
       "    }\n",
       "\n",
       "    .dataframe thead th {\n",
       "        text-align: right;\n",
       "    }\n",
       "</style>\n",
       "<table border=\"1\" class=\"dataframe\">\n",
       "  <thead>\n",
       "    <tr style=\"text-align: right;\">\n",
       "      <th></th>\n",
       "      <th>MEMBER_ID</th>\n",
       "      <th>LOB</th>\n",
       "      <th>Voluntary</th>\n",
       "      <th>churned</th>\n",
       "      <th>Tenure</th>\n",
       "      <th>hadGap.</th>\n",
       "      <th>Age</th>\n",
       "      <th>SDOHScore</th>\n",
       "      <th>conditionScore</th>\n",
       "      <th>substanceScore</th>\n",
       "      <th>physFrailtyScore</th>\n",
       "      <th>mentalFrailtyScore</th>\n",
       "      <th>EDCost</th>\n",
       "      <th>EDCount</th>\n",
       "      <th>IPCost</th>\n",
       "      <th>IPCount</th>\n",
       "      <th>State</th>\n",
       "    </tr>\n",
       "  </thead>\n",
       "  <tbody>\n",
       "  </tbody>\n",
       "</table>\n",
       "</div>"
      ],
      "text/plain": [
       "Empty DataFrame\n",
       "Columns: [MEMBER_ID, LOB, Voluntary, churned, Tenure, hadGap., Age, SDOHScore, conditionScore, substanceScore, physFrailtyScore, mentalFrailtyScore, EDCost, EDCount, IPCost, IPCount, State]\n",
       "Index: []"
      ]
     },
     "execution_count": 285,
     "metadata": {},
     "output_type": "execute_result"
    }
   ],
   "source": [
    "df[df.duplicated(subset=['MEMBER_ID'],keep=False)]"
   ]
  },
  {
   "cell_type": "markdown",
   "metadata": {},
   "source": [
    "No more duplicates present"
   ]
  },
  {
   "cell_type": "markdown",
   "metadata": {},
   "source": [
    "# Some Data Statistics"
   ]
  },
  {
   "cell_type": "markdown",
   "metadata": {},
   "source": [
    "Customers who Voluntarily move out of the policy vs customers who are removed Involuntarily might have different behaviours. If the \n",
    "behaviour is significantly different then we need to build different models for each category because otherwise, it would impact the importance of other independent variables in the model."
   ]
  },
  {
   "cell_type": "code",
   "execution_count": 299,
   "metadata": {},
   "outputs": [
    {
     "data": {
      "text/html": [
       "<div>\n",
       "<style scoped>\n",
       "    .dataframe tbody tr th:only-of-type {\n",
       "        vertical-align: middle;\n",
       "    }\n",
       "\n",
       "    .dataframe tbody tr th {\n",
       "        vertical-align: top;\n",
       "    }\n",
       "\n",
       "    .dataframe thead th {\n",
       "        text-align: right;\n",
       "    }\n",
       "</style>\n",
       "<table border=\"1\" class=\"dataframe\">\n",
       "  <thead>\n",
       "    <tr style=\"text-align: right;\">\n",
       "      <th></th>\n",
       "      <th>churned</th>\n",
       "      <th>Tenure</th>\n",
       "      <th>hadGap.</th>\n",
       "      <th>Age</th>\n",
       "      <th>SDOHScore</th>\n",
       "      <th>conditionScore</th>\n",
       "      <th>substanceScore</th>\n",
       "      <th>physFrailtyScore</th>\n",
       "      <th>mentalFrailtyScore</th>\n",
       "      <th>EDCost</th>\n",
       "      <th>EDCount</th>\n",
       "      <th>IPCost</th>\n",
       "      <th>IPCount</th>\n",
       "    </tr>\n",
       "    <tr>\n",
       "      <th>Voluntary</th>\n",
       "      <th></th>\n",
       "      <th></th>\n",
       "      <th></th>\n",
       "      <th></th>\n",
       "      <th></th>\n",
       "      <th></th>\n",
       "      <th></th>\n",
       "      <th></th>\n",
       "      <th></th>\n",
       "      <th></th>\n",
       "      <th></th>\n",
       "      <th></th>\n",
       "      <th></th>\n",
       "    </tr>\n",
       "  </thead>\n",
       "  <tbody>\n",
       "    <tr>\n",
       "      <th>Involuntary - Medicare / Other</th>\n",
       "      <td>1.0</td>\n",
       "      <td>1086.361833</td>\n",
       "      <td>0.093545</td>\n",
       "      <td>64.859308</td>\n",
       "      <td>0.216962</td>\n",
       "      <td>0.273396</td>\n",
       "      <td>0.132211</td>\n",
       "      <td>0.153394</td>\n",
       "      <td>0.277456</td>\n",
       "      <td>2626.434817</td>\n",
       "      <td>3.940420</td>\n",
       "      <td>29314.338752</td>\n",
       "      <td>2.812867</td>\n",
       "    </tr>\n",
       "    <tr>\n",
       "      <th>Involuntary - SNP</th>\n",
       "      <td>1.0</td>\n",
       "      <td>892.209687</td>\n",
       "      <td>0.132479</td>\n",
       "      <td>57.058974</td>\n",
       "      <td>0.231896</td>\n",
       "      <td>0.140000</td>\n",
       "      <td>0.081481</td>\n",
       "      <td>0.066287</td>\n",
       "      <td>0.224074</td>\n",
       "      <td>2476.364066</td>\n",
       "      <td>4.246285</td>\n",
       "      <td>9785.341752</td>\n",
       "      <td>1.180998</td>\n",
       "    </tr>\n",
       "    <tr>\n",
       "      <th>Voluntary</th>\n",
       "      <td>1.0</td>\n",
       "      <td>809.245561</td>\n",
       "      <td>0.126462</td>\n",
       "      <td>63.370204</td>\n",
       "      <td>0.323657</td>\n",
       "      <td>0.157588</td>\n",
       "      <td>0.077725</td>\n",
       "      <td>0.073384</td>\n",
       "      <td>0.207146</td>\n",
       "      <td>2102.471138</td>\n",
       "      <td>3.579423</td>\n",
       "      <td>7291.172803</td>\n",
       "      <td>0.915363</td>\n",
       "    </tr>\n",
       "  </tbody>\n",
       "</table>\n",
       "</div>"
      ],
      "text/plain": [
       "                                churned       Tenure   hadGap.        Age  \\\n",
       "Voluntary                                                                   \n",
       "Involuntary - Medicare / Other      1.0  1086.361833  0.093545  64.859308   \n",
       "Involuntary - SNP                   1.0   892.209687  0.132479  57.058974   \n",
       "Voluntary                           1.0   809.245561  0.126462  63.370204   \n",
       "\n",
       "                                SDOHScore  conditionScore  substanceScore  \\\n",
       "Voluntary                                                                   \n",
       "Involuntary - Medicare / Other   0.216962        0.273396        0.132211   \n",
       "Involuntary - SNP                0.231896        0.140000        0.081481   \n",
       "Voluntary                        0.323657        0.157588        0.077725   \n",
       "\n",
       "                                physFrailtyScore  mentalFrailtyScore  \\\n",
       "Voluntary                                                              \n",
       "Involuntary - Medicare / Other          0.153394            0.277456   \n",
       "Involuntary - SNP                       0.066287            0.224074   \n",
       "Voluntary                               0.073384            0.207146   \n",
       "\n",
       "                                     EDCost   EDCount        IPCost   IPCount  \n",
       "Voluntary                                                                      \n",
       "Involuntary - Medicare / Other  2626.434817  3.940420  29314.338752  2.812867  \n",
       "Involuntary - SNP               2476.364066  4.246285   9785.341752  1.180998  \n",
       "Voluntary                       2102.471138  3.579423   7291.172803  0.915363  "
      ]
     },
     "execution_count": 299,
     "metadata": {},
     "output_type": "execute_result"
    }
   ],
   "source": [
    "df.groupby(['Voluntary']).mean()"
   ]
  },
  {
   "cell_type": "markdown",
   "metadata": {},
   "source": [
    "We check the distribution now"
   ]
  },
  {
   "cell_type": "code",
   "execution_count": 297,
   "metadata": {},
   "outputs": [
    {
     "data": {
      "text/plain": [
       "array([<matplotlib.axes._subplots.AxesSubplot object at 0x7f82b2558d68>,\n",
       "       <matplotlib.axes._subplots.AxesSubplot object at 0x7f82b3f61438>,\n",
       "       <matplotlib.axes._subplots.AxesSubplot object at 0x7f82b4a1fd30>,\n",
       "       <matplotlib.axes._subplots.AxesSubplot object at 0x7f82b4a752e8>,\n",
       "       <matplotlib.axes._subplots.AxesSubplot object at 0x7f82b4e63860>,\n",
       "       <matplotlib.axes._subplots.AxesSubplot object at 0x7f82b4e84dd8>,\n",
       "       <matplotlib.axes._subplots.AxesSubplot object at 0x7f82b4eb4390>,\n",
       "       <matplotlib.axes._subplots.AxesSubplot object at 0x7f82b4eda8d0>,\n",
       "       <matplotlib.axes._subplots.AxesSubplot object at 0x7f82b4f03e80>,\n",
       "       <matplotlib.axes._subplots.AxesSubplot object at 0x7f82b4f34438>,\n",
       "       <matplotlib.axes._subplots.AxesSubplot object at 0x7f82b4f5b9b0>,\n",
       "       <matplotlib.axes._subplots.AxesSubplot object at 0x7f82b4f86f28>],\n",
       "      dtype=object)"
      ]
     },
     "execution_count": 297,
     "metadata": {},
     "output_type": "execute_result"
    },
    {
     "data": {
      "image/png": "[encoded data removed]",
      "text/plain": [
       "<Figure size 1080x1440 with 12 Axes>"
      ]
     },
     "metadata": {
      "needs_background": "light"
     },
     "output_type": "display_data"
    }
   ],
   "source": [
    "numerical_features = ['Tenure','Age','hadGap.','SDOHScore','conditionScore','substanceScore','physFrailtyScore','mentalFrailtyScore','EDCost','EDCount','IPCost','IPCount']\n",
    "fig, ax = plt.subplots(6, 2, figsize=(15, 20))\n",
    "df[df.Voluntary == 'Voluntary'][numerical_features].hist(bins=20, color=\"blue\", alpha = 0.1,ax=ax)\n",
    "df[df.Voluntary == 'Involuntary - SNP'][numerical_features].hist(bins=20, color=\"orange\", alpha=0.9, ax=ax)\n",
    "df[df.Voluntary == 'Involuntary - Medicare / Other'][numerical_features].hist(bins=20, color=\"green\", alpha=0.5, ax=ax)"
   ]
  },
  {
   "cell_type": "markdown",
   "metadata": {},
   "source": [
    "The distribution seems quite the same, hence they can be considered in one category"
   ]
  },
  {
   "cell_type": "code",
   "execution_count": 251,
   "metadata": {
    "scrolled": false
   },
   "outputs": [
    {
     "data": {
      "text/html": [
       "<div>\n",
       "<style scoped>\n",
       "    .dataframe tbody tr th:only-of-type {\n",
       "        vertical-align: middle;\n",
       "    }\n",
       "\n",
       "    .dataframe tbody tr th {\n",
       "        vertical-align: top;\n",
       "    }\n",
       "\n",
       "    .dataframe thead th {\n",
       "        text-align: right;\n",
       "    }\n",
       "</style>\n",
       "<table border=\"1\" class=\"dataframe\">\n",
       "  <thead>\n",
       "    <tr style=\"text-align: right;\">\n",
       "      <th></th>\n",
       "      <th>count</th>\n",
       "      <th>mean</th>\n",
       "      <th>std</th>\n",
       "      <th>min</th>\n",
       "      <th>25%</th>\n",
       "      <th>50%</th>\n",
       "      <th>75%</th>\n",
       "      <th>max</th>\n",
       "    </tr>\n",
       "  </thead>\n",
       "  <tbody>\n",
       "    <tr>\n",
       "      <th>churned</th>\n",
       "      <td>68662.0</td>\n",
       "      <td>0.297108</td>\n",
       "      <td>0.456988</td>\n",
       "      <td>0.0</td>\n",
       "      <td>0.000000</td>\n",
       "      <td>0.000000</td>\n",
       "      <td>1.000000</td>\n",
       "      <td>1.000000</td>\n",
       "    </tr>\n",
       "    <tr>\n",
       "      <th>Tenure</th>\n",
       "      <td>68662.0</td>\n",
       "      <td>1493.395707</td>\n",
       "      <td>1402.059200</td>\n",
       "      <td>0.0</td>\n",
       "      <td>365.000000</td>\n",
       "      <td>1022.000000</td>\n",
       "      <td>2148.000000</td>\n",
       "      <td>4552.000000</td>\n",
       "    </tr>\n",
       "    <tr>\n",
       "      <th>hadGap.</th>\n",
       "      <td>68662.0</td>\n",
       "      <td>0.103303</td>\n",
       "      <td>0.304357</td>\n",
       "      <td>0.0</td>\n",
       "      <td>0.000000</td>\n",
       "      <td>0.000000</td>\n",
       "      <td>0.000000</td>\n",
       "      <td>1.000000</td>\n",
       "    </tr>\n",
       "    <tr>\n",
       "      <th>Age</th>\n",
       "      <td>68662.0</td>\n",
       "      <td>60.402260</td>\n",
       "      <td>14.727583</td>\n",
       "      <td>15.0</td>\n",
       "      <td>52.000000</td>\n",
       "      <td>62.000000</td>\n",
       "      <td>70.000000</td>\n",
       "      <td>107.000000</td>\n",
       "    </tr>\n",
       "    <tr>\n",
       "      <th>SDOHScore</th>\n",
       "      <td>68662.0</td>\n",
       "      <td>0.256783</td>\n",
       "      <td>0.512485</td>\n",
       "      <td>0.0</td>\n",
       "      <td>0.003747</td>\n",
       "      <td>0.031304</td>\n",
       "      <td>0.277867</td>\n",
       "      <td>8.115451</td>\n",
       "    </tr>\n",
       "    <tr>\n",
       "      <th>conditionScore</th>\n",
       "      <td>68662.0</td>\n",
       "      <td>0.180840</td>\n",
       "      <td>0.215924</td>\n",
       "      <td>0.0</td>\n",
       "      <td>0.000000</td>\n",
       "      <td>0.150000</td>\n",
       "      <td>0.300000</td>\n",
       "      <td>1.000000</td>\n",
       "    </tr>\n",
       "    <tr>\n",
       "      <th>substanceScore</th>\n",
       "      <td>68662.0</td>\n",
       "      <td>0.073898</td>\n",
       "      <td>0.151158</td>\n",
       "      <td>0.0</td>\n",
       "      <td>0.000000</td>\n",
       "      <td>0.000000</td>\n",
       "      <td>0.000000</td>\n",
       "      <td>1.000000</td>\n",
       "    </tr>\n",
       "    <tr>\n",
       "      <th>physFrailtyScore</th>\n",
       "      <td>68662.0</td>\n",
       "      <td>0.075359</td>\n",
       "      <td>0.104102</td>\n",
       "      <td>0.0</td>\n",
       "      <td>0.000000</td>\n",
       "      <td>0.000000</td>\n",
       "      <td>0.111111</td>\n",
       "      <td>0.777778</td>\n",
       "    </tr>\n",
       "    <tr>\n",
       "      <th>mentalFrailtyScore</th>\n",
       "      <td>68662.0</td>\n",
       "      <td>0.218702</td>\n",
       "      <td>0.249426</td>\n",
       "      <td>0.0</td>\n",
       "      <td>0.000000</td>\n",
       "      <td>0.000000</td>\n",
       "      <td>0.500000</td>\n",
       "      <td>1.000000</td>\n",
       "    </tr>\n",
       "    <tr>\n",
       "      <th>EDCost</th>\n",
       "      <td>59475.0</td>\n",
       "      <td>962.456593</td>\n",
       "      <td>2696.646516</td>\n",
       "      <td>0.0</td>\n",
       "      <td>0.000000</td>\n",
       "      <td>50.030000</td>\n",
       "      <td>962.520000</td>\n",
       "      <td>267123.170000</td>\n",
       "    </tr>\n",
       "    <tr>\n",
       "      <th>EDCount</th>\n",
       "      <td>59475.0</td>\n",
       "      <td>1.533770</td>\n",
       "      <td>3.849348</td>\n",
       "      <td>0.0</td>\n",
       "      <td>0.000000</td>\n",
       "      <td>1.000000</td>\n",
       "      <td>2.000000</td>\n",
       "      <td>287.000000</td>\n",
       "    </tr>\n",
       "    <tr>\n",
       "      <th>IPCost</th>\n",
       "      <td>59475.0</td>\n",
       "      <td>4512.108380</td>\n",
       "      <td>16484.640923</td>\n",
       "      <td>0.0</td>\n",
       "      <td>0.000000</td>\n",
       "      <td>0.000000</td>\n",
       "      <td>0.000000</td>\n",
       "      <td>438879.080000</td>\n",
       "    </tr>\n",
       "    <tr>\n",
       "      <th>IPCount</th>\n",
       "      <td>59475.0</td>\n",
       "      <td>0.497100</td>\n",
       "      <td>1.536041</td>\n",
       "      <td>0.0</td>\n",
       "      <td>0.000000</td>\n",
       "      <td>0.000000</td>\n",
       "      <td>0.000000</td>\n",
       "      <td>80.000000</td>\n",
       "    </tr>\n",
       "  </tbody>\n",
       "</table>\n",
       "</div>"
      ],
      "text/plain": [
       "                      count         mean           std   min         25%  \\\n",
       "churned             68662.0     0.297108      0.456988   0.0    0.000000   \n",
       "Tenure              68662.0  1493.395707   1402.059200   0.0  365.000000   \n",
       "hadGap.             68662.0     0.103303      0.304357   0.0    0.000000   \n",
       "Age                 68662.0    60.402260     14.727583  15.0   52.000000   \n",
       "SDOHScore           68662.0     0.256783      0.512485   0.0    0.003747   \n",
       "conditionScore      68662.0     0.180840      0.215924   0.0    0.000000   \n",
       "substanceScore      68662.0     0.073898      0.151158   0.0    0.000000   \n",
       "physFrailtyScore    68662.0     0.075359      0.104102   0.0    0.000000   \n",
       "mentalFrailtyScore  68662.0     0.218702      0.249426   0.0    0.000000   \n",
       "EDCost              59475.0   962.456593   2696.646516   0.0    0.000000   \n",
       "EDCount             59475.0     1.533770      3.849348   0.0    0.000000   \n",
       "IPCost              59475.0  4512.108380  16484.640923   0.0    0.000000   \n",
       "IPCount             59475.0     0.497100      1.536041   0.0    0.000000   \n",
       "\n",
       "                            50%          75%            max  \n",
       "churned                0.000000     1.000000       1.000000  \n",
       "Tenure              1022.000000  2148.000000    4552.000000  \n",
       "hadGap.                0.000000     0.000000       1.000000  \n",
       "Age                   62.000000    70.000000     107.000000  \n",
       "SDOHScore              0.031304     0.277867       8.115451  \n",
       "conditionScore         0.150000     0.300000       1.000000  \n",
       "substanceScore         0.000000     0.000000       1.000000  \n",
       "physFrailtyScore       0.000000     0.111111       0.777778  \n",
       "mentalFrailtyScore     0.000000     0.500000       1.000000  \n",
       "EDCost                50.030000   962.520000  267123.170000  \n",
       "EDCount                1.000000     2.000000     287.000000  \n",
       "IPCost                 0.000000     0.000000  438879.080000  \n",
       "IPCount                0.000000     0.000000      80.000000  "
      ]
     },
     "execution_count": 251,
     "metadata": {},
     "output_type": "execute_result"
    }
   ],
   "source": [
    "df.describe().transpose()"
   ]
  },
  {
   "cell_type": "markdown",
   "metadata": {},
   "source": [
    "No negative values are present. "
   ]
  },
  {
   "cell_type": "code",
   "execution_count": 252,
   "metadata": {
    "scrolled": false
   },
   "outputs": [
    {
     "name": "stdout",
     "output_type": "stream",
     "text": [
      "<class 'pandas.core.frame.DataFrame'>\n",
      "Int64Index: 68662 entries, 0 to 76994\n",
      "Data columns (total 17 columns):\n",
      "MEMBER_ID             68662 non-null object\n",
      "LOB                   68662 non-null object\n",
      "Voluntary             20400 non-null object\n",
      "churned               68662 non-null int64\n",
      "Tenure                68662 non-null int64\n",
      "hadGap.               68662 non-null int64\n",
      "Age                   68662 non-null int64\n",
      "SDOHScore             68662 non-null float64\n",
      "conditionScore        68662 non-null float64\n",
      "substanceScore        68662 non-null float64\n",
      "physFrailtyScore      68662 non-null float64\n",
      "mentalFrailtyScore    68662 non-null float64\n",
      "EDCost                59475 non-null float64\n",
      "EDCount               59475 non-null float64\n",
      "IPCost                59475 non-null float64\n",
      "IPCount               59475 non-null float64\n",
      "State                 68662 non-null object\n",
      "dtypes: float64(9), int64(4), object(4)\n",
      "memory usage: 9.4+ MB\n"
     ]
    }
   ],
   "source": [
    "df.info()"
   ]
  },
  {
   "cell_type": "markdown",
   "metadata": {},
   "source": [
    "To check which columns have null values"
   ]
  },
  {
   "cell_type": "code",
   "execution_count": 253,
   "metadata": {},
   "outputs": [
    {
     "data": {
      "text/plain": [
       "MEMBER_ID              0.000000\n",
       "LOB                    0.000000\n",
       "Voluntary             70.289243\n",
       "churned                0.000000\n",
       "Tenure                 0.000000\n",
       "hadGap.                0.000000\n",
       "Age                    0.000000\n",
       "SDOHScore              0.000000\n",
       "conditionScore         0.000000\n",
       "substanceScore         0.000000\n",
       "physFrailtyScore       0.000000\n",
       "mentalFrailtyScore     0.000000\n",
       "EDCost                13.380036\n",
       "EDCount               13.380036\n",
       "IPCost                13.380036\n",
       "IPCount               13.380036\n",
       "State                  0.000000\n",
       "dtype: float64"
      ]
     },
     "execution_count": 253,
     "metadata": {},
     "output_type": "execute_result"
    }
   ],
   "source": [
    "df.isnull().sum()/len(df)*100"
   ]
  },
  {
   "cell_type": "markdown",
   "metadata": {},
   "source": [
    "All the rows where EDCost, EDCount, IPCost and IPCount are missing belong to churned category. \n",
    "This is interesting to note and it could be because the data which is coming from a source might miss those values."
   ]
  },
  {
   "cell_type": "code",
   "execution_count": 254,
   "metadata": {},
   "outputs": [
    {
     "data": {
      "text/plain": [
       "Voluntary                         11545\n",
       "Involuntary - Medicare / Other     5345\n",
       "Involuntary - SNP                  3510\n",
       "Name: Voluntary, dtype: int64"
      ]
     },
     "execution_count": 254,
     "metadata": {},
     "output_type": "execute_result"
    }
   ],
   "source": [
    "df['Voluntary'].value_counts()"
   ]
  },
  {
   "cell_type": "code",
   "execution_count": 255,
   "metadata": {},
   "outputs": [],
   "source": [
    "df.drop(['Voluntary'], inplace = True, axis =1)"
   ]
  },
  {
   "cell_type": "markdown",
   "metadata": {},
   "source": [
    "This plot shows percentage of churned Vs not churned customers"
   ]
  },
  {
   "cell_type": "code",
   "execution_count": 256,
   "metadata": {},
   "outputs": [
    {
     "data": {
      "text/plain": [
       "<BarContainer object of 1 artists>"
      ]
     },
     "execution_count": 256,
     "metadata": {},
     "output_type": "execute_result"
    },
    {
     "data": {
      "image/png": "[encoded data removed]",
      "text/plain": [
       "<Figure size 432x288 with 1 Axes>"
      ]
     },
     "metadata": {
      "needs_background": "light"
     },
     "output_type": "display_data"
    }
   ],
   "source": [
    "plt.bar(x='Not Churned',height = df['churned'].value_counts()[0]/len(df))\n",
    "plt.bar(x='Churned',height = df['churned'].value_counts()[1]/len(df))"
   ]
  },
  {
   "cell_type": "markdown",
   "metadata": {},
   "source": [
    "The class distribution of data is roughly 70:30, which is highly imbalanced. "
   ]
  },
  {
   "cell_type": "markdown",
   "metadata": {},
   "source": [
    "# Now checking each column for outliers"
   ]
  },
  {
   "cell_type": "code",
   "execution_count": 257,
   "metadata": {},
   "outputs": [
    {
     "data": {
      "text/plain": [
       "<matplotlib.axes._subplots.AxesSubplot at 0x7f82bb8a7160>"
      ]
     },
     "execution_count": 257,
     "metadata": {},
     "output_type": "execute_result"
    },
    {
     "data": {
      "image/png": "[encoded data removed]",
      "text/plain": [
       "<Figure size 432x288 with 1 Axes>"
      ]
     },
     "metadata": {
      "needs_background": "light"
     },
     "output_type": "display_data"
    }
   ],
   "source": [
    "df['Tenure'].plot.hist()"
   ]
  },
  {
   "cell_type": "code",
   "execution_count": 258,
   "metadata": {},
   "outputs": [
    {
     "data": {
      "text/plain": [
       "<matplotlib.axes._subplots.AxesSubplot at 0x7f82bb9d36a0>"
      ]
     },
     "execution_count": 258,
     "metadata": {},
     "output_type": "execute_result"
    },
    {
     "data": {
      "image/png": "[encoded data removed]",
      "text/plain": [
       "<Figure size 432x288 with 1 Axes>"
      ]
     },
     "metadata": {
      "needs_background": "light"
     },
     "output_type": "display_data"
    }
   ],
   "source": [
    "sns.distplot(df['Age']) #Uniform Distribution"
   ]
  },
  {
   "cell_type": "code",
   "execution_count": 259,
   "metadata": {},
   "outputs": [
    {
     "data": {
      "text/plain": [
       "<matplotlib.axes._subplots.AxesSubplot at 0x7f82c626e828>"
      ]
     },
     "execution_count": 259,
     "metadata": {},
     "output_type": "execute_result"
    },
    {
     "data": {
      "image/png": "[encoded data removed]",
      "text/plain": [
       "<Figure size 432x288 with 1 Axes>"
      ]
     },
     "metadata": {
      "needs_background": "light"
     },
     "output_type": "display_data"
    }
   ],
   "source": [
    "df['SDOHScore'].plot.hist()"
   ]
  },
  {
   "cell_type": "code",
   "execution_count": 260,
   "metadata": {},
   "outputs": [
    {
     "data": {
      "text/plain": [
       "<matplotlib.axes._subplots.AxesSubplot at 0x7f82c63414a8>"
      ]
     },
     "execution_count": 260,
     "metadata": {},
     "output_type": "execute_result"
    },
    {
     "data": {
      "image/png": "[encoded data removed]",
      "text/plain": [
       "<Figure size 432x288 with 1 Axes>"
      ]
     },
     "metadata": {
      "needs_background": "light"
     },
     "output_type": "display_data"
    }
   ],
   "source": [
    "df['conditionScore'].plot.hist()"
   ]
  },
  {
   "cell_type": "code",
   "execution_count": 261,
   "metadata": {},
   "outputs": [
    {
     "data": {
      "text/plain": [
       "<matplotlib.axes._subplots.AxesSubplot at 0x7f82cee1ba90>"
      ]
     },
     "execution_count": 261,
     "metadata": {},
     "output_type": "execute_result"
    },
    {
     "data": {
      "image/png": "[encoded data removed]",
      "text/plain": [
       "<Figure size 432x288 with 1 Axes>"
      ]
     },
     "metadata": {
      "needs_background": "light"
     },
     "output_type": "display_data"
    }
   ],
   "source": [
    "df['substanceScore'].plot.hist()"
   ]
  },
  {
   "cell_type": "code",
   "execution_count": 262,
   "metadata": {},
   "outputs": [
    {
     "data": {
      "text/plain": [
       "<matplotlib.axes._subplots.AxesSubplot at 0x7f82bb5b5ba8>"
      ]
     },
     "execution_count": 262,
     "metadata": {},
     "output_type": "execute_result"
    },
    {
     "data": {
      "image/png": "[encoded data removed]",
      "text/plain": [
       "<Figure size 432x288 with 1 Axes>"
      ]
     },
     "metadata": {
      "needs_background": "light"
     },
     "output_type": "display_data"
    }
   ],
   "source": [
    "df['physFrailtyScore'].plot.hist()"
   ]
  },
  {
   "cell_type": "code",
   "execution_count": 263,
   "metadata": {},
   "outputs": [
    {
     "data": {
      "text/plain": [
       "<matplotlib.axes._subplots.AxesSubplot at 0x7f82b8f794e0>"
      ]
     },
     "execution_count": 263,
     "metadata": {},
     "output_type": "execute_result"
    },
    {
     "data": {
      "image/png": "[encoded data removed]",
      "text/plain": [
       "<Figure size 432x288 with 1 Axes>"
      ]
     },
     "metadata": {
      "needs_background": "light"
     },
     "output_type": "display_data"
    }
   ],
   "source": [
    "df['mentalFrailtyScore'].plot.hist()"
   ]
  },
  {
   "cell_type": "code",
   "execution_count": 264,
   "metadata": {},
   "outputs": [
    {
     "data": {
      "text/plain": [
       "<matplotlib.axes._subplots.AxesSubplot at 0x7f82b9049860>"
      ]
     },
     "execution_count": 264,
     "metadata": {},
     "output_type": "execute_result"
    },
    {
     "data": {
      "image/png": "[encoded data removed]",
      "text/plain": [
       "<Figure size 432x288 with 1 Axes>"
      ]
     },
     "metadata": {
      "needs_background": "light"
     },
     "output_type": "display_data"
    }
   ],
   "source": [
    "df['EDCost'].plot()"
   ]
  },
  {
   "cell_type": "code",
   "execution_count": 265,
   "metadata": {},
   "outputs": [
    {
     "data": {
      "text/plain": [
       "<matplotlib.axes._subplots.AxesSubplot at 0x7f82c61ca4e0>"
      ]
     },
     "execution_count": 265,
     "metadata": {},
     "output_type": "execute_result"
    },
    {
     "data": {
      "image/png": "[encoded data removed]",
      "text/plain": [
       "<Figure size 432x288 with 1 Axes>"
      ]
     },
     "metadata": {
      "needs_background": "light"
     },
     "output_type": "display_data"
    }
   ],
   "source": [
    "df['EDCount'].plot()"
   ]
  },
  {
   "cell_type": "code",
   "execution_count": 266,
   "metadata": {},
   "outputs": [
    {
     "data": {
      "text/plain": [
       "<matplotlib.axes._subplots.AxesSubplot at 0x7f82bd9f5470>"
      ]
     },
     "execution_count": 266,
     "metadata": {},
     "output_type": "execute_result"
    },
    {
     "data": {
      "image/png": "[encoded data removed]",
      "text/plain": [
       "<Figure size 432x288 with 1 Axes>"
      ]
     },
     "metadata": {
      "needs_background": "light"
     },
     "output_type": "display_data"
    }
   ],
   "source": [
    "df['IPCost'].plot()"
   ]
  },
  {
   "cell_type": "code",
   "execution_count": 267,
   "metadata": {},
   "outputs": [
    {
     "data": {
      "text/plain": [
       "<matplotlib.axes._subplots.AxesSubplot at 0x7f82b8f882b0>"
      ]
     },
     "execution_count": 267,
     "metadata": {},
     "output_type": "execute_result"
    },
    {
     "data": {
      "image/png": "[encoded data removed]",
      "text/plain": [
       "<Figure size 432x288 with 1 Axes>"
      ]
     },
     "metadata": {
      "needs_background": "light"
     },
     "output_type": "display_data"
    }
   ],
   "source": [
    "df['IPCount'].plot()"
   ]
  },
  {
   "cell_type": "code",
   "execution_count": 268,
   "metadata": {},
   "outputs": [
    {
     "data": {
      "text/plain": [
       "<matplotlib.axes._subplots.AxesSubplot at 0x7f82a8231e48>"
      ]
     },
     "execution_count": 268,
     "metadata": {},
     "output_type": "execute_result"
    },
    {
     "data": {
      "image/png": "[encoded data removed]",
      "text/plain": [
       "<Figure size 432x288 with 1 Axes>"
      ]
     },
     "metadata": {
      "needs_background": "light"
     },
     "output_type": "display_data"
    }
   ],
   "source": [
    "sns.distplot(df['Tenure'])"
   ]
  },
  {
   "cell_type": "code",
   "execution_count": 269,
   "metadata": {},
   "outputs": [
    {
     "data": {
      "text/plain": [
       "1    9187\n",
       "Name: churned, dtype: int64"
      ]
     },
     "execution_count": 269,
     "metadata": {},
     "output_type": "execute_result"
    }
   ],
   "source": [
    "df_nan = df[df.isnull().any(axis=1)]\n",
    "df_nan['churned'].value_counts()"
   ]
  },
  {
   "cell_type": "code",
   "execution_count": 270,
   "metadata": {},
   "outputs": [
    {
     "data": {
      "text/plain": [
       "59475"
      ]
     },
     "execution_count": 270,
     "metadata": {},
     "output_type": "execute_result"
    }
   ],
   "source": [
    "df.dropna(inplace = True, axis =0)\n",
    "len(df)"
   ]
  },
  {
   "cell_type": "markdown",
   "metadata": {},
   "source": [
    "From the above 4 plots we can see that there are few outliers in the dataset which should be removed"
   ]
  },
  {
   "cell_type": "code",
   "execution_count": 300,
   "metadata": {},
   "outputs": [
    {
     "data": {
      "text/html": [
       "<div>\n",
       "<style scoped>\n",
       "    .dataframe tbody tr th:only-of-type {\n",
       "        vertical-align: middle;\n",
       "    }\n",
       "\n",
       "    .dataframe tbody tr th {\n",
       "        vertical-align: top;\n",
       "    }\n",
       "\n",
       "    .dataframe thead th {\n",
       "        text-align: right;\n",
       "    }\n",
       "</style>\n",
       "<table border=\"1\" class=\"dataframe\">\n",
       "  <thead>\n",
       "    <tr style=\"text-align: right;\">\n",
       "      <th></th>\n",
       "      <th>MEMBER_ID</th>\n",
       "      <th>LOB</th>\n",
       "      <th>Voluntary</th>\n",
       "      <th>churned</th>\n",
       "      <th>Tenure</th>\n",
       "      <th>hadGap.</th>\n",
       "      <th>Age</th>\n",
       "      <th>SDOHScore</th>\n",
       "      <th>conditionScore</th>\n",
       "      <th>substanceScore</th>\n",
       "      <th>physFrailtyScore</th>\n",
       "      <th>mentalFrailtyScore</th>\n",
       "      <th>EDCost</th>\n",
       "      <th>EDCount</th>\n",
       "      <th>IPCost</th>\n",
       "      <th>IPCount</th>\n",
       "      <th>State</th>\n",
       "    </tr>\n",
       "  </thead>\n",
       "  <tbody>\n",
       "    <tr>\n",
       "      <th>26756</th>\n",
       "      <td>d40c260e73443a7f85f5c43ac76b3dc0</td>\n",
       "      <td>LOB2</td>\n",
       "      <td>Involuntary - SNP</td>\n",
       "      <td>1</td>\n",
       "      <td>487</td>\n",
       "      <td>0</td>\n",
       "      <td>56</td>\n",
       "      <td>0.302383</td>\n",
       "      <td>0.45</td>\n",
       "      <td>0.666667</td>\n",
       "      <td>0.111111</td>\n",
       "      <td>0.5</td>\n",
       "      <td>175711.51</td>\n",
       "      <td>146.0</td>\n",
       "      <td>23700.09</td>\n",
       "      <td>13.0</td>\n",
       "      <td>PA</td>\n",
       "    </tr>\n",
       "    <tr>\n",
       "      <th>30040</th>\n",
       "      <td>6d8f4783dd459a968ab01842870de942</td>\n",
       "      <td>LOB5</td>\n",
       "      <td>Voluntary</td>\n",
       "      <td>1</td>\n",
       "      <td>791</td>\n",
       "      <td>0</td>\n",
       "      <td>40</td>\n",
       "      <td>0.007350</td>\n",
       "      <td>0.50</td>\n",
       "      <td>1.000000</td>\n",
       "      <td>0.333333</td>\n",
       "      <td>0.5</td>\n",
       "      <td>87161.20</td>\n",
       "      <td>179.0</td>\n",
       "      <td>238436.75</td>\n",
       "      <td>51.0</td>\n",
       "      <td>OH</td>\n",
       "    </tr>\n",
       "    <tr>\n",
       "      <th>45845</th>\n",
       "      <td>e4d77cd71199a20b5f059f3e8326045c</td>\n",
       "      <td>LOB1</td>\n",
       "      <td>Involuntary - Medicare / Other</td>\n",
       "      <td>1</td>\n",
       "      <td>669</td>\n",
       "      <td>1</td>\n",
       "      <td>55</td>\n",
       "      <td>0.180501</td>\n",
       "      <td>0.35</td>\n",
       "      <td>0.333333</td>\n",
       "      <td>0.111111</td>\n",
       "      <td>0.5</td>\n",
       "      <td>47680.47</td>\n",
       "      <td>230.0</td>\n",
       "      <td>17638.41</td>\n",
       "      <td>2.0</td>\n",
       "      <td>PA</td>\n",
       "    </tr>\n",
       "    <tr>\n",
       "      <th>52026</th>\n",
       "      <td>b0624deabeb6fc4b78a084323259d1ad</td>\n",
       "      <td>LOB1</td>\n",
       "      <td>Involuntary - SNP</td>\n",
       "      <td>1</td>\n",
       "      <td>5</td>\n",
       "      <td>0</td>\n",
       "      <td>46</td>\n",
       "      <td>1.776484</td>\n",
       "      <td>0.55</td>\n",
       "      <td>0.666667</td>\n",
       "      <td>0.333333</td>\n",
       "      <td>0.5</td>\n",
       "      <td>267123.17</td>\n",
       "      <td>287.0</td>\n",
       "      <td>413591.80</td>\n",
       "      <td>80.0</td>\n",
       "      <td>PA</td>\n",
       "    </tr>\n",
       "  </tbody>\n",
       "</table>\n",
       "</div>"
      ],
      "text/plain": [
       "                              MEMBER_ID   LOB                       Voluntary  \\\n",
       "26756  d40c260e73443a7f85f5c43ac76b3dc0  LOB2               Involuntary - SNP   \n",
       "30040  6d8f4783dd459a968ab01842870de942  LOB5                       Voluntary   \n",
       "45845  e4d77cd71199a20b5f059f3e8326045c  LOB1  Involuntary - Medicare / Other   \n",
       "52026  b0624deabeb6fc4b78a084323259d1ad  LOB1               Involuntary - SNP   \n",
       "\n",
       "       churned  Tenure  hadGap.  Age  SDOHScore  conditionScore  \\\n",
       "26756        1     487        0   56   0.302383            0.45   \n",
       "30040        1     791        0   40   0.007350            0.50   \n",
       "45845        1     669        1   55   0.180501            0.35   \n",
       "52026        1       5        0   46   1.776484            0.55   \n",
       "\n",
       "       substanceScore  physFrailtyScore  mentalFrailtyScore     EDCost  \\\n",
       "26756        0.666667          0.111111                 0.5  175711.51   \n",
       "30040        1.000000          0.333333                 0.5   87161.20   \n",
       "45845        0.333333          0.111111                 0.5   47680.47   \n",
       "52026        0.666667          0.333333                 0.5  267123.17   \n",
       "\n",
       "       EDCount     IPCost  IPCount State  \n",
       "26756    146.0   23700.09     13.0    PA  \n",
       "30040    179.0  238436.75     51.0    OH  \n",
       "45845    230.0   17638.41      2.0    PA  \n",
       "52026    287.0  413591.80     80.0    PA  "
      ]
     },
     "execution_count": 300,
     "metadata": {},
     "output_type": "execute_result"
    }
   ],
   "source": [
    "\n",
    "\n",
    "df[(df['EDCost'] > 150000) | (df['EDCount'] > 200) | (df['IPCount'] > 50)]"
   ]
  },
  {
   "cell_type": "markdown",
   "metadata": {},
   "source": [
    "Removing these 4 outliers"
   ]
  },
  {
   "cell_type": "code",
   "execution_count": 274,
   "metadata": {},
   "outputs": [
    {
     "data": {
      "text/plain": [
       "59471"
      ]
     },
     "execution_count": 274,
     "metadata": {},
     "output_type": "execute_result"
    }
   ],
   "source": [
    "df = df[~((df['EDCost'] > 150000) | (df['EDCount'] > 200) | (df['IPCount'] > 50))]\n",
    "len(df)"
   ]
  },
  {
   "cell_type": "markdown",
   "metadata": {},
   "source": [
    "The members who have some missing information, all belong to churn category"
   ]
  },
  {
   "cell_type": "code",
   "execution_count": 275,
   "metadata": {},
   "outputs": [
    {
     "data": {
      "text/plain": [
       "<BarContainer object of 1 artists>"
      ]
     },
     "execution_count": 275,
     "metadata": {},
     "output_type": "execute_result"
    },
    {
     "data": {
      "image/png": "[encoded data removed]",
      "text/plain": [
       "<Figure size 432x288 with 1 Axes>"
      ]
     },
     "metadata": {
      "needs_background": "light"
     },
     "output_type": "display_data"
    }
   ],
   "source": [
    "plt.bar(x='Not Churned',height = df['churned'].value_counts()[0]/len(df))\n",
    "plt.bar(x='Churned',height = df['churned'].value_counts()[1]/len(df))"
   ]
  },
  {
   "cell_type": "code",
   "execution_count": 276,
   "metadata": {},
   "outputs": [
    {
     "data": {
      "text/plain": [
       "0    0.811522\n",
       "1    0.188478\n",
       "Name: churned, dtype: float64"
      ]
     },
     "execution_count": 276,
     "metadata": {},
     "output_type": "execute_result"
    }
   ],
   "source": [
    "df['churned'].value_counts()/len(df)"
   ]
  },
  {
   "cell_type": "markdown",
   "metadata": {},
   "source": [
    "# Checking relationship between Each Variable and Churn"
   ]
  },
  {
   "cell_type": "code",
   "execution_count": 277,
   "metadata": {},
   "outputs": [
    {
     "data": {
      "text/html": [
       "<div>\n",
       "<style scoped>\n",
       "    .dataframe tbody tr th:only-of-type {\n",
       "        vertical-align: middle;\n",
       "    }\n",
       "\n",
       "    .dataframe tbody tr th {\n",
       "        vertical-align: top;\n",
       "    }\n",
       "\n",
       "    .dataframe thead th {\n",
       "        text-align: right;\n",
       "    }\n",
       "</style>\n",
       "<table border=\"1\" class=\"dataframe\">\n",
       "  <thead>\n",
       "    <tr style=\"text-align: right;\">\n",
       "      <th></th>\n",
       "      <th>Tenure</th>\n",
       "      <th>hadGap.</th>\n",
       "      <th>Age</th>\n",
       "      <th>SDOHScore</th>\n",
       "      <th>conditionScore</th>\n",
       "      <th>substanceScore</th>\n",
       "      <th>physFrailtyScore</th>\n",
       "      <th>mentalFrailtyScore</th>\n",
       "      <th>EDCost</th>\n",
       "      <th>EDCount</th>\n",
       "      <th>IPCost</th>\n",
       "      <th>IPCount</th>\n",
       "    </tr>\n",
       "    <tr>\n",
       "      <th>churned</th>\n",
       "      <th></th>\n",
       "      <th></th>\n",
       "      <th></th>\n",
       "      <th></th>\n",
       "      <th></th>\n",
       "      <th></th>\n",
       "      <th></th>\n",
       "      <th></th>\n",
       "      <th></th>\n",
       "      <th></th>\n",
       "      <th></th>\n",
       "      <th></th>\n",
       "    </tr>\n",
       "  </thead>\n",
       "  <tbody>\n",
       "    <tr>\n",
       "      <th>0</th>\n",
       "      <td>1745.856699</td>\n",
       "      <td>0.096722</td>\n",
       "      <td>59.441818</td>\n",
       "      <td>0.247006</td>\n",
       "      <td>0.179122</td>\n",
       "      <td>0.065973</td>\n",
       "      <td>0.067850</td>\n",
       "      <td>0.214568</td>\n",
       "      <td>644.182018</td>\n",
       "      <td>1.005719</td>\n",
       "      <td>2137.704461</td>\n",
       "      <td>0.248995</td>\n",
       "    </tr>\n",
       "    <tr>\n",
       "      <th>1</th>\n",
       "      <td>1072.667945</td>\n",
       "      <td>0.138906</td>\n",
       "      <td>61.809885</td>\n",
       "      <td>0.271434</td>\n",
       "      <td>0.240026</td>\n",
       "      <td>0.133434</td>\n",
       "      <td>0.123879</td>\n",
       "      <td>0.291819</td>\n",
       "      <td>2281.641266</td>\n",
       "      <td>3.732804</td>\n",
       "      <td>14675.206188</td>\n",
       "      <td>1.552502</td>\n",
       "    </tr>\n",
       "  </tbody>\n",
       "</table>\n",
       "</div>"
      ],
      "text/plain": [
       "              Tenure   hadGap.        Age  SDOHScore  conditionScore  \\\n",
       "churned                                                                \n",
       "0        1745.856699  0.096722  59.441818   0.247006        0.179122   \n",
       "1        1072.667945  0.138906  61.809885   0.271434        0.240026   \n",
       "\n",
       "         substanceScore  physFrailtyScore  mentalFrailtyScore       EDCost  \\\n",
       "churned                                                                      \n",
       "0              0.065973          0.067850            0.214568   644.182018   \n",
       "1              0.133434          0.123879            0.291819  2281.641266   \n",
       "\n",
       "          EDCount        IPCost   IPCount  \n",
       "churned                                    \n",
       "0        1.005719   2137.704461  0.248995  \n",
       "1        3.732804  14675.206188  1.552502  "
      ]
     },
     "execution_count": 277,
     "metadata": {},
     "output_type": "execute_result"
    }
   ],
   "source": [
    "df.groupby('churned').mean()"
   ]
  },
  {
   "cell_type": "markdown",
   "metadata": {},
   "source": [
    "Observations made from the above statistics"
   ]
  },
  {
   "cell_type": "markdown",
   "metadata": {},
   "source": [
    "1. The avergae age of customers who churned is higher than customers who didn't churn. However, the difference between the two is not high\n",
    "2. The average tenure duration is higher for customers who didn't churn than curned customers. That means, if a customer is staying for a long period of time with the insurance company, then chances of them not churning increases.\n",
    "3. When customers are more prone to substance abuse, they are likely to churn.\n",
    "4. When customers long term health condition is not good, they are likely to churn.\n",
    "5. When customers have higher Physical and Mental Frailty score, then they are more likely to churn. \n",
    "6. Customers are more likely to churn, when their hospital visits and cost to the insurance company is high. That means, customers who are visiting hospitals more frequently are more likely to leave the insurance company.\n",
    "\n",
    "Overall, the customers who have a history of substance abuse, long term physical, mental issues and have high hospital visits and incur a lot of amount to the insurance company, then those customers are more likely to churn."
   ]
  },
  {
   "cell_type": "markdown",
   "metadata": {},
   "source": [
    "Plotting Churned Vs Not-Churned against Age"
   ]
  },
  {
   "cell_type": "code",
   "execution_count": 35,
   "metadata": {},
   "outputs": [
    {
     "data": {
      "text/plain": [
       "<seaborn.axisgrid.FacetGrid at 0x7f82e19faa90>"
      ]
     },
     "execution_count": 35,
     "metadata": {},
     "output_type": "execute_result"
    },
    {
     "data": {
      "image/png": "[encoded data removed]",
      "text/plain": [
       "<Figure size 360x360 with 1 Axes>"
      ]
     },
     "metadata": {
      "needs_background": "light"
     },
     "output_type": "display_data"
    }
   ],
   "source": [
    "sns.catplot(x=\"churned\", y=\"Age\", kind=\"box\", data=df)"
   ]
  },
  {
   "cell_type": "markdown",
   "metadata": {},
   "source": [
    "The median age for both the categories is the almost the same. Hence it can not be considered a very good distinguishing factor while trying to predict churn.\n",
    "\n",
    "Hence, by looking at age we cannot decide whether a customer will churn or not."
   ]
  },
  {
   "cell_type": "code",
   "execution_count": 36,
   "metadata": {},
   "outputs": [
    {
     "data": {
      "text/plain": [
       "<seaborn.axisgrid.FacetGrid at 0x7f82cab4efd0>"
      ]
     },
     "execution_count": 36,
     "metadata": {},
     "output_type": "execute_result"
    },
    {
     "data": {
      "image/png": "[encoded data removed]",
      "text/plain": [
       "<Figure size 360x360 with 1 Axes>"
      ]
     },
     "metadata": {
      "needs_background": "light"
     },
     "output_type": "display_data"
    }
   ],
   "source": [
    "sns.catplot(x=\"churned\", y=\"Tenure\", kind=\"box\", data=df)"
   ]
  },
  {
   "cell_type": "code",
   "execution_count": 37,
   "metadata": {},
   "outputs": [
    {
     "data": {
      "text/plain": [
       "array([<matplotlib.axes._subplots.AxesSubplot object at 0x7f82cbd82b00>,\n",
       "       <matplotlib.axes._subplots.AxesSubplot object at 0x7f82cdd92b38>],\n",
       "      dtype=object)"
      ]
     },
     "execution_count": 37,
     "metadata": {},
     "output_type": "execute_result"
    },
    {
     "data": {
      "image/png": "[encoded data removed]",
      "text/plain": [
       "<Figure size 2016x576 with 2 Axes>"
      ]
     },
     "metadata": {
      "needs_background": "light"
     },
     "output_type": "display_data"
    }
   ],
   "source": [
    "numerical_features = ['Tenure','Age']\n",
    "fig, ax = plt.subplots(1, 2, figsize=(28, 8))\n",
    "df[df.churned == 0][numerical_features].hist(bins=20, color=\"blue\", alpha=0.5, ax=ax)\n",
    "df[df.churned == 1][numerical_features].hist(bins=20, color=\"orange\", alpha=0.5, ax=ax)"
   ]
  },
  {
   "cell_type": "markdown",
   "metadata": {},
   "source": [
    "When Tenure is greater than 4000 months then there is lot of chance that person will not churn"
   ]
  },
  {
   "cell_type": "code",
   "execution_count": 38,
   "metadata": {},
   "outputs": [
    {
     "data": {
      "text/plain": [
       "<seaborn.axisgrid.FacetGrid at 0x7f82cab56208>"
      ]
     },
     "execution_count": 38,
     "metadata": {},
     "output_type": "execute_result"
    },
    {
     "data": {
      "image/png": "[encoded data removed]",
      "text/plain": [
       "<Figure size 360x360 with 1 Axes>"
      ]
     },
     "metadata": {
      "needs_background": "light"
     },
     "output_type": "display_data"
    }
   ],
   "source": [
    "sns.catplot(x=\"churned\", y=\"hadGap.\", kind=\"box\", data=df)"
   ]
  },
  {
   "cell_type": "code",
   "execution_count": 39,
   "metadata": {},
   "outputs": [
    {
     "data": {
      "text/plain": [
       "<seaborn.axisgrid.FacetGrid at 0x7f82c852d898>"
      ]
     },
     "execution_count": 39,
     "metadata": {},
     "output_type": "execute_result"
    },
    {
     "data": {
      "image/png": "[encoded data removed]",
      "text/plain": [
       "<Figure size 360x360 with 1 Axes>"
      ]
     },
     "metadata": {
      "needs_background": "light"
     },
     "output_type": "display_data"
    }
   ],
   "source": [
    "sns.catplot(x=\"churned\", y=\"SDOHScore\", kind=\"box\", data=df)"
   ]
  },
  {
   "cell_type": "code",
   "execution_count": 40,
   "metadata": {},
   "outputs": [
    {
     "data": {
      "text/plain": [
       "<seaborn.axisgrid.FacetGrid at 0x7f82cd190fd0>"
      ]
     },
     "execution_count": 40,
     "metadata": {},
     "output_type": "execute_result"
    },
    {
     "data": {
      "image/png": "[encoded data removed]",
      "text/plain": [
       "<Figure size 360x360 with 1 Axes>"
      ]
     },
     "metadata": {
      "needs_background": "light"
     },
     "output_type": "display_data"
    }
   ],
   "source": [
    "sns.catplot(x=\"churned\", y=\"conditionScore\", kind=\"box\", data=df)"
   ]
  },
  {
   "cell_type": "code",
   "execution_count": 41,
   "metadata": {},
   "outputs": [
    {
     "data": {
      "text/plain": [
       "<seaborn.axisgrid.FacetGrid at 0x7f82ccf8fa58>"
      ]
     },
     "execution_count": 41,
     "metadata": {},
     "output_type": "execute_result"
    },
    {
     "data": {
      "image/png": "[encoded data removed]",
      "text/plain": [
       "<Figure size 360x360 with 1 Axes>"
      ]
     },
     "metadata": {
      "needs_background": "light"
     },
     "output_type": "display_data"
    }
   ],
   "source": [
    "sns.catplot(x=\"churned\", y=\"substanceScore\", kind=\"box\", data=df)"
   ]
  },
  {
   "cell_type": "code",
   "execution_count": 42,
   "metadata": {},
   "outputs": [
    {
     "data": {
      "text/plain": [
       "<seaborn.axisgrid.FacetGrid at 0x7f82c60c4780>"
      ]
     },
     "execution_count": 42,
     "metadata": {},
     "output_type": "execute_result"
    },
    {
     "data": {
      "image/png": "[encoded data removed]",
      "text/plain": [
       "<Figure size 360x360 with 1 Axes>"
      ]
     },
     "metadata": {
      "needs_background": "light"
     },
     "output_type": "display_data"
    }
   ],
   "source": [
    "sns.catplot(x=\"churned\", y=\"physFrailtyScore\", kind=\"box\", data=df)"
   ]
  },
  {
   "cell_type": "code",
   "execution_count": 43,
   "metadata": {},
   "outputs": [
    {
     "data": {
      "text/plain": [
       "<seaborn.axisgrid.FacetGrid at 0x7f82c9171080>"
      ]
     },
     "execution_count": 43,
     "metadata": {},
     "output_type": "execute_result"
    },
    {
     "data": {
      "image/png": "[encoded data removed]",
      "text/plain": [
       "<Figure size 360x360 with 1 Axes>"
      ]
     },
     "metadata": {
      "needs_background": "light"
     },
     "output_type": "display_data"
    }
   ],
   "source": [
    "sns.catplot(x=\"churned\", y=\"mentalFrailtyScore\", kind=\"box\", data=df)"
   ]
  },
  {
   "cell_type": "code",
   "execution_count": 44,
   "metadata": {},
   "outputs": [
    {
     "data": {
      "text/plain": [
       "<seaborn.axisgrid.FacetGrid at 0x7f82cda56be0>"
      ]
     },
     "execution_count": 44,
     "metadata": {},
     "output_type": "execute_result"
    },
    {
     "data": {
      "image/png": "[encoded data removed]",
      "text/plain": [
       "<Figure size 360x360 with 1 Axes>"
      ]
     },
     "metadata": {
      "needs_background": "light"
     },
     "output_type": "display_data"
    }
   ],
   "source": [
    "sns.catplot(x=\"churned\", y=\"EDCost\", kind=\"box\", data=df)"
   ]
  },
  {
   "cell_type": "code",
   "execution_count": 45,
   "metadata": {},
   "outputs": [
    {
     "data": {
      "text/plain": [
       "<seaborn.axisgrid.FacetGrid at 0x7f82ce70d470>"
      ]
     },
     "execution_count": 45,
     "metadata": {},
     "output_type": "execute_result"
    },
    {
     "data": {
      "image/png": "[encoded data removed]",
      "text/plain": [
       "<Figure size 360x360 with 1 Axes>"
      ]
     },
     "metadata": {
      "needs_background": "light"
     },
     "output_type": "display_data"
    }
   ],
   "source": [
    "sns.catplot(x=\"churned\", y=\"EDCount\", kind=\"box\", data=df)"
   ]
  },
  {
   "cell_type": "code",
   "execution_count": 46,
   "metadata": {},
   "outputs": [
    {
     "data": {
      "text/plain": [
       "<seaborn.axisgrid.FacetGrid at 0x7f82cdd2fe48>"
      ]
     },
     "execution_count": 46,
     "metadata": {},
     "output_type": "execute_result"
    },
    {
     "data": {
      "image/png": "[encoded data removed]",
      "text/plain": [
       "<Figure size 360x360 with 1 Axes>"
      ]
     },
     "metadata": {
      "needs_background": "light"
     },
     "output_type": "display_data"
    }
   ],
   "source": [
    "sns.catplot(x=\"churned\", y=\"IPCost\", kind=\"box\", data=df)"
   ]
  },
  {
   "cell_type": "code",
   "execution_count": 47,
   "metadata": {},
   "outputs": [
    {
     "data": {
      "text/plain": [
       "<seaborn.axisgrid.FacetGrid at 0x7f82ce27c128>"
      ]
     },
     "execution_count": 47,
     "metadata": {},
     "output_type": "execute_result"
    },
    {
     "data": {
      "image/png": "[encoded data removed]",
      "text/plain": [
       "<Figure size 360x360 with 1 Axes>"
      ]
     },
     "metadata": {
      "needs_background": "light"
     },
     "output_type": "display_data"
    }
   ],
   "source": [
    "sns.catplot(x=\"churned\", y=\"IPCount\", kind=\"box\", data=df)"
   ]
  },
  {
   "cell_type": "code",
   "execution_count": 48,
   "metadata": {},
   "outputs": [
    {
     "data": {
      "text/plain": [
       "<matplotlib.axes._subplots.AxesSubplot at 0x7f82cde40cc0>"
      ]
     },
     "execution_count": 48,
     "metadata": {},
     "output_type": "execute_result"
    },
    {
     "data": {
      "image/png": "[encoded data removed]",
      "text/plain": [
       "<Figure size 432x288 with 1 Axes>"
      ]
     },
     "metadata": {
      "needs_background": "light"
     },
     "output_type": "display_data"
    }
   ],
   "source": [
    "sns.countplot(x='LOB',data=df,hue='churned')"
   ]
  },
  {
   "cell_type": "markdown",
   "metadata": {},
   "source": [
    "From the plot above, we can see that in categories LOB1 and LOB2, 80% of customers are likely to stay with the company."
   ]
  },
  {
   "cell_type": "code",
   "execution_count": 49,
   "metadata": {},
   "outputs": [
    {
     "data": {
      "text/plain": [
       "Age\n",
       "(0, 10]         NaN\n",
       "(10, 20]       0.00\n",
       "(20, 30]      13.37\n",
       "(30, 40]      17.97\n",
       "(40, 50]      17.63\n",
       "(50, 60]      17.28\n",
       "(60, 70]      18.18\n",
       "(70, 80]      21.06\n",
       "(80, 90]      26.21\n",
       "(90, 100]     37.77\n",
       "(100, 110]    32.14\n",
       "dtype: float64"
      ]
     },
     "execution_count": 49,
     "metadata": {},
     "output_type": "execute_result"
    }
   ],
   "source": [
    "age_bucket = df.groupby(pd.cut(df['Age'],bins=[0,10,20,30,40,50,60,70,80,90,100,110]))\n",
    "age_bucket = round((age_bucket.sum()['churned'] / age_bucket.size())*100 , 2)\n",
    "age_bucket"
   ]
  },
  {
   "cell_type": "code",
   "execution_count": 50,
   "metadata": {},
   "outputs": [
    {
     "data": {
      "text/plain": [
       "Text(0.5, 1.0, 'Percentage of people in different Age Groups that exited')"
      ]
     },
     "execution_count": 50,
     "metadata": {},
     "output_type": "execute_result"
    },
    {
     "data": {
      "image/png": "[encoded data removed]",
      "text/plain": [
       "<Figure size 432x288 with 1 Axes>"
      ]
     },
     "metadata": {
      "needs_background": "light"
     },
     "output_type": "display_data"
    }
   ],
   "source": [
    "x = [str(i)+\"-\"+str(i+10) for i in range(0,110,10)]\n",
    "plt.plot(x,age_bucket.values)\n",
    "plt.xlabel(\"Age Group\")\n",
    "plt.ylabel(\"Percentage exited\")\n",
    "plt.title(\"Percentage of people in different Age Groups that exited\")"
   ]
  },
  {
   "cell_type": "markdown",
   "metadata": {},
   "source": [
    "Intially people in the age group [10-40] churn, then for age group [40-80], they remain constant and as the age increases after 80 the churn percentage also increases"
   ]
  },
  {
   "cell_type": "code",
   "execution_count": 51,
   "metadata": {},
   "outputs": [
    {
     "data": {
      "image/png": "[encoded data removed]",
      "text/plain": [
       "<Figure size 432x288 with 1 Axes>"
      ]
     },
     "metadata": {
      "needs_background": "light"
     },
     "output_type": "display_data"
    }
   ],
   "source": [
    "sns.violinplot(x='churned', y='Age', data=df);"
   ]
  },
  {
   "cell_type": "code",
   "execution_count": 52,
   "metadata": {},
   "outputs": [
    {
     "data": {
      "image/png": "[encoded data removed]",
      "text/plain": [
       "<Figure size 409.25x360 with 1 Axes>"
      ]
     },
     "metadata": {
      "needs_background": "light"
     },
     "output_type": "display_data"
    }
   ],
   "source": [
    "sns.catplot(y=\"State\", hue=\"churned\", kind=\"count\",\n",
    "            palette=\"pastel\", edgecolor=\".6\",\n",
    "            data=df);"
   ]
  },
  {
   "cell_type": "code",
   "execution_count": 117,
   "metadata": {},
   "outputs": [
    {
     "data": {
      "text/html": [
       "<div>\n",
       "<style scoped>\n",
       "    .dataframe tbody tr th:only-of-type {\n",
       "        vertical-align: middle;\n",
       "    }\n",
       "\n",
       "    .dataframe tbody tr th {\n",
       "        vertical-align: top;\n",
       "    }\n",
       "\n",
       "    .dataframe thead th {\n",
       "        text-align: right;\n",
       "    }\n",
       "</style>\n",
       "<table border=\"1\" class=\"dataframe\">\n",
       "  <thead>\n",
       "    <tr style=\"text-align: right;\">\n",
       "      <th></th>\n",
       "      <th>churned</th>\n",
       "      <th>Tenure</th>\n",
       "      <th>hadGap.</th>\n",
       "      <th>Age</th>\n",
       "      <th>SDOHScore</th>\n",
       "      <th>conditionScore</th>\n",
       "      <th>substanceScore</th>\n",
       "      <th>physFrailtyScore</th>\n",
       "      <th>mentalFrailtyScore</th>\n",
       "      <th>EDCost</th>\n",
       "      <th>EDCount</th>\n",
       "      <th>IPCost</th>\n",
       "      <th>IPCount</th>\n",
       "    </tr>\n",
       "    <tr>\n",
       "      <th>State</th>\n",
       "      <th></th>\n",
       "      <th></th>\n",
       "      <th></th>\n",
       "      <th></th>\n",
       "      <th></th>\n",
       "      <th></th>\n",
       "      <th></th>\n",
       "      <th></th>\n",
       "      <th></th>\n",
       "      <th></th>\n",
       "      <th></th>\n",
       "      <th></th>\n",
       "      <th></th>\n",
       "    </tr>\n",
       "  </thead>\n",
       "  <tbody>\n",
       "    <tr>\n",
       "      <th>KY</th>\n",
       "      <td>0.298969</td>\n",
       "      <td>546.916589</td>\n",
       "      <td>0.032802</td>\n",
       "      <td>63.181818</td>\n",
       "      <td>0.143825</td>\n",
       "      <td>0.210637</td>\n",
       "      <td>0.099969</td>\n",
       "      <td>0.064147</td>\n",
       "      <td>0.179944</td>\n",
       "      <td>984.313899</td>\n",
       "      <td>1.619494</td>\n",
       "      <td>4129.941978</td>\n",
       "      <td>0.440487</td>\n",
       "    </tr>\n",
       "    <tr>\n",
       "      <th>NC</th>\n",
       "      <td>0.315741</td>\n",
       "      <td>567.383333</td>\n",
       "      <td>0.035185</td>\n",
       "      <td>62.480556</td>\n",
       "      <td>0.298115</td>\n",
       "      <td>0.168773</td>\n",
       "      <td>0.100154</td>\n",
       "      <td>0.065432</td>\n",
       "      <td>0.168287</td>\n",
       "      <td>978.086042</td>\n",
       "      <td>1.621759</td>\n",
       "      <td>4157.986514</td>\n",
       "      <td>0.424074</td>\n",
       "    </tr>\n",
       "    <tr>\n",
       "      <th>OH</th>\n",
       "      <td>0.371454</td>\n",
       "      <td>579.923759</td>\n",
       "      <td>0.054965</td>\n",
       "      <td>61.733156</td>\n",
       "      <td>0.503519</td>\n",
       "      <td>0.193639</td>\n",
       "      <td>0.096040</td>\n",
       "      <td>0.070577</td>\n",
       "      <td>0.207668</td>\n",
       "      <td>1270.302930</td>\n",
       "      <td>1.873670</td>\n",
       "      <td>4097.187318</td>\n",
       "      <td>0.496897</td>\n",
       "    </tr>\n",
       "    <tr>\n",
       "      <th>PA</th>\n",
       "      <td>0.173557</td>\n",
       "      <td>1725.654868</td>\n",
       "      <td>0.110951</td>\n",
       "      <td>59.642235</td>\n",
       "      <td>0.241353</td>\n",
       "      <td>0.190952</td>\n",
       "      <td>0.076684</td>\n",
       "      <td>0.079538</td>\n",
       "      <td>0.233432</td>\n",
       "      <td>937.906522</td>\n",
       "      <td>1.498870</td>\n",
       "      <td>4538.659059</td>\n",
       "      <td>0.498481</td>\n",
       "    </tr>\n",
       "  </tbody>\n",
       "</table>\n",
       "</div>"
      ],
      "text/plain": [
       "        churned       Tenure   hadGap.        Age  SDOHScore  conditionScore  \\\n",
       "State                                                                          \n",
       "KY     0.298969   546.916589  0.032802  63.181818   0.143825        0.210637   \n",
       "NC     0.315741   567.383333  0.035185  62.480556   0.298115        0.168773   \n",
       "OH     0.371454   579.923759  0.054965  61.733156   0.503519        0.193639   \n",
       "PA     0.173557  1725.654868  0.110951  59.642235   0.241353        0.190952   \n",
       "\n",
       "       substanceScore  physFrailtyScore  mentalFrailtyScore       EDCost  \\\n",
       "State                                                                      \n",
       "KY           0.099969          0.064147            0.179944   984.313899   \n",
       "NC           0.100154          0.065432            0.168287   978.086042   \n",
       "OH           0.096040          0.070577            0.207668  1270.302930   \n",
       "PA           0.076684          0.079538            0.233432   937.906522   \n",
       "\n",
       "        EDCount       IPCost   IPCount  \n",
       "State                                   \n",
       "KY     1.619494  4129.941978  0.440487  \n",
       "NC     1.621759  4157.986514  0.424074  \n",
       "OH     1.873670  4097.187318  0.496897  \n",
       "PA     1.498870  4538.659059  0.498481  "
      ]
     },
     "execution_count": 117,
     "metadata": {},
     "output_type": "execute_result"
    }
   ],
   "source": [
    "df.groupby(['State']).mean()"
   ]
  },
  {
   "cell_type": "code",
   "execution_count": 222,
   "metadata": {},
   "outputs": [],
   "source": [
    "df.drop(['MEMBER_ID'],inplace= True, axis=1)\n",
    "df_final= pd.get_dummies(df, drop_first=True)"
   ]
  },
  {
   "cell_type": "code",
   "execution_count": 224,
   "metadata": {},
   "outputs": [
    {
     "data": {
      "image/png": "[encoded data removed]",
      "text/plain": [
       "<Figure size 1440x720 with 2 Axes>"
      ]
     },
     "metadata": {
      "needs_background": "light"
     },
     "output_type": "display_data"
    }
   ],
   "source": [
    "\n",
    "corr = df_final.corr()\n",
    "corr\n",
    "plt.figure(figsize=(20,10))\n",
    "\n",
    "mask = np.zeros_like(corr)\n",
    "mask[np.triu_indices_from(mask, 1)] = True\n",
    "a = sns.heatmap(corr,mask=mask, annot=True, fmt='.2f')\n",
    "rotx = a.set_xticklabels(a.get_xticklabels(), rotation=90)\n",
    "roty = a.set_yticklabels(a.get_yticklabels(), rotation=30)"
   ]
  },
  {
   "cell_type": "markdown",
   "metadata": {},
   "source": [
    "Here we can see that Physical and Mental Fratality scores are correlated with IPCount, IPCost, ED Cost and EDCount. This makes sense becasue when you are not physically or mentally fit, then the number of hospital trips as well as cost would increse."
   ]
  },
  {
   "cell_type": "markdown",
   "metadata": {},
   "source": [
    "Tenure and churned has negative correlation. This is true because we saw from the data that when number of tenure days is more, then customer is less likely to churn.\n",
    "\n",
    "Churn has somewhat correlation between IP and ED costs and counts because we saw that the person who visits hospital more, is more likely to leave the insurance company. "
   ]
  },
  {
   "cell_type": "markdown",
   "metadata": {},
   "source": [
    "ED Cost and ED Count are 85% correlated. \n",
    "Similarly, IP Cost and IP Count are 83% correlated. "
   ]
  },
  {
   "cell_type": "markdown",
   "metadata": {},
   "source": [
    "Removing columns which are above 90% correlated"
   ]
  },
  {
   "cell_type": "code",
   "execution_count": 225,
   "metadata": {},
   "outputs": [],
   "source": [
    "df_final.drop(['LOB_LOB4','LOB_LOB5'], inplace = True, axis =1)"
   ]
  },
  {
   "cell_type": "markdown",
   "metadata": {},
   "source": [
    "# Multicollinearity"
   ]
  },
  {
   "cell_type": "code",
   "execution_count": 226,
   "metadata": {},
   "outputs": [],
   "source": [
    "from statsmodels.stats.outliers_influence import variance_inflation_factor\n",
    "vif = pd.DataFrame()\n",
    "vif[\"VIF Factor\"] = [variance_inflation_factor(df_final.values, i) for i in range(df_final.shape[1])]\n",
    "vif[\"features\"] = df_final.columns"
   ]
  },
  {
   "cell_type": "code",
   "execution_count": 227,
   "metadata": {},
   "outputs": [
    {
     "data": {
      "text/html": [
       "<div>\n",
       "<style scoped>\n",
       "    .dataframe tbody tr th:only-of-type {\n",
       "        vertical-align: middle;\n",
       "    }\n",
       "\n",
       "    .dataframe tbody tr th {\n",
       "        vertical-align: top;\n",
       "    }\n",
       "\n",
       "    .dataframe thead th {\n",
       "        text-align: right;\n",
       "    }\n",
       "</style>\n",
       "<table border=\"1\" class=\"dataframe\">\n",
       "  <thead>\n",
       "    <tr style=\"text-align: right;\">\n",
       "      <th></th>\n",
       "      <th>VIF Factor</th>\n",
       "      <th>features</th>\n",
       "    </tr>\n",
       "  </thead>\n",
       "  <tbody>\n",
       "    <tr>\n",
       "      <th>0</th>\n",
       "      <td>1.263337</td>\n",
       "      <td>churned</td>\n",
       "    </tr>\n",
       "    <tr>\n",
       "      <th>1</th>\n",
       "      <td>1.205144</td>\n",
       "      <td>Tenure</td>\n",
       "    </tr>\n",
       "    <tr>\n",
       "      <th>2</th>\n",
       "      <td>1.018914</td>\n",
       "      <td>hadGap.</td>\n",
       "    </tr>\n",
       "    <tr>\n",
       "      <th>3</th>\n",
       "      <td>1.231486</td>\n",
       "      <td>Age</td>\n",
       "    </tr>\n",
       "    <tr>\n",
       "      <th>4</th>\n",
       "      <td>1.025651</td>\n",
       "      <td>SDOHScore</td>\n",
       "    </tr>\n",
       "    <tr>\n",
       "      <th>5</th>\n",
       "      <td>1.362792</td>\n",
       "      <td>conditionScore</td>\n",
       "    </tr>\n",
       "    <tr>\n",
       "      <th>6</th>\n",
       "      <td>1.165206</td>\n",
       "      <td>substanceScore</td>\n",
       "    </tr>\n",
       "    <tr>\n",
       "      <th>7</th>\n",
       "      <td>1.353066</td>\n",
       "      <td>physFrailtyScore</td>\n",
       "    </tr>\n",
       "    <tr>\n",
       "      <th>8</th>\n",
       "      <td>1.140860</td>\n",
       "      <td>mentalFrailtyScore</td>\n",
       "    </tr>\n",
       "    <tr>\n",
       "      <th>9</th>\n",
       "      <td>4.064281</td>\n",
       "      <td>EDCost</td>\n",
       "    </tr>\n",
       "    <tr>\n",
       "      <th>10</th>\n",
       "      <td>3.897915</td>\n",
       "      <td>EDCount</td>\n",
       "    </tr>\n",
       "    <tr>\n",
       "      <th>11</th>\n",
       "      <td>3.357164</td>\n",
       "      <td>IPCost</td>\n",
       "    </tr>\n",
       "    <tr>\n",
       "      <th>12</th>\n",
       "      <td>3.967655</td>\n",
       "      <td>IPCount</td>\n",
       "    </tr>\n",
       "    <tr>\n",
       "      <th>13</th>\n",
       "      <td>1.108544</td>\n",
       "      <td>LOB_LOB2</td>\n",
       "    </tr>\n",
       "    <tr>\n",
       "      <th>14</th>\n",
       "      <td>1.325134</td>\n",
       "      <td>LOB_LOB3</td>\n",
       "    </tr>\n",
       "    <tr>\n",
       "      <th>15</th>\n",
       "      <td>1.065301</td>\n",
       "      <td>LOB_LOB6</td>\n",
       "    </tr>\n",
       "    <tr>\n",
       "      <th>16</th>\n",
       "      <td>1.161685</td>\n",
       "      <td>LOB_LOB7</td>\n",
       "    </tr>\n",
       "    <tr>\n",
       "      <th>17</th>\n",
       "      <td>1.220052</td>\n",
       "      <td>LOB_LOB8</td>\n",
       "    </tr>\n",
       "    <tr>\n",
       "      <th>18</th>\n",
       "      <td>1.947664</td>\n",
       "      <td>State_NC</td>\n",
       "    </tr>\n",
       "    <tr>\n",
       "      <th>19</th>\n",
       "      <td>2.058985</td>\n",
       "      <td>State_OH</td>\n",
       "    </tr>\n",
       "    <tr>\n",
       "      <th>20</th>\n",
       "      <td>20.415376</td>\n",
       "      <td>State_PA</td>\n",
       "    </tr>\n",
       "  </tbody>\n",
       "</table>\n",
       "</div>"
      ],
      "text/plain": [
       "    VIF Factor            features\n",
       "0     1.263337             churned\n",
       "1     1.205144              Tenure\n",
       "2     1.018914             hadGap.\n",
       "3     1.231486                 Age\n",
       "4     1.025651           SDOHScore\n",
       "5     1.362792      conditionScore\n",
       "6     1.165206      substanceScore\n",
       "7     1.353066    physFrailtyScore\n",
       "8     1.140860  mentalFrailtyScore\n",
       "9     4.064281              EDCost\n",
       "10    3.897915             EDCount\n",
       "11    3.357164              IPCost\n",
       "12    3.967655             IPCount\n",
       "13    1.108544            LOB_LOB2\n",
       "14    1.325134            LOB_LOB3\n",
       "15    1.065301            LOB_LOB6\n",
       "16    1.161685            LOB_LOB7\n",
       "17    1.220052            LOB_LOB8\n",
       "18    1.947664            State_NC\n",
       "19    2.058985            State_OH\n",
       "20   20.415376            State_PA"
      ]
     },
     "execution_count": 227,
     "metadata": {},
     "output_type": "execute_result"
    }
   ],
   "source": [
    "vif"
   ]
  },
  {
   "cell_type": "markdown",
   "metadata": {},
   "source": [
    "Since there is only one variable that has VIF >5, we will remove that"
   ]
  },
  {
   "cell_type": "code",
   "execution_count": 228,
   "metadata": {},
   "outputs": [],
   "source": [
    "df_final.drop(['State_PA'], inplace = True, axis = 1)"
   ]
  },
  {
   "cell_type": "code",
   "execution_count": 229,
   "metadata": {},
   "outputs": [
    {
     "data": {
      "text/html": [
       "<div>\n",
       "<style scoped>\n",
       "    .dataframe tbody tr th:only-of-type {\n",
       "        vertical-align: middle;\n",
       "    }\n",
       "\n",
       "    .dataframe tbody tr th {\n",
       "        vertical-align: top;\n",
       "    }\n",
       "\n",
       "    .dataframe thead th {\n",
       "        text-align: right;\n",
       "    }\n",
       "</style>\n",
       "<table border=\"1\" class=\"dataframe\">\n",
       "  <thead>\n",
       "    <tr style=\"text-align: right;\">\n",
       "      <th></th>\n",
       "      <th>churned</th>\n",
       "      <th>Tenure</th>\n",
       "      <th>hadGap.</th>\n",
       "      <th>Age</th>\n",
       "      <th>SDOHScore</th>\n",
       "      <th>conditionScore</th>\n",
       "      <th>substanceScore</th>\n",
       "      <th>physFrailtyScore</th>\n",
       "      <th>mentalFrailtyScore</th>\n",
       "      <th>EDCost</th>\n",
       "      <th>EDCount</th>\n",
       "      <th>IPCost</th>\n",
       "      <th>IPCount</th>\n",
       "      <th>LOB_LOB2</th>\n",
       "      <th>LOB_LOB3</th>\n",
       "      <th>LOB_LOB6</th>\n",
       "      <th>LOB_LOB7</th>\n",
       "      <th>LOB_LOB8</th>\n",
       "      <th>State_NC</th>\n",
       "      <th>State_OH</th>\n",
       "    </tr>\n",
       "  </thead>\n",
       "  <tbody>\n",
       "    <tr>\n",
       "      <th>0</th>\n",
       "      <td>0</td>\n",
       "      <td>49</td>\n",
       "      <td>0</td>\n",
       "      <td>59</td>\n",
       "      <td>0.018738</td>\n",
       "      <td>0.0</td>\n",
       "      <td>0.0</td>\n",
       "      <td>0.0</td>\n",
       "      <td>0.0</td>\n",
       "      <td>0.0</td>\n",
       "      <td>0.0</td>\n",
       "      <td>0.0</td>\n",
       "      <td>0.0</td>\n",
       "      <td>1</td>\n",
       "      <td>0</td>\n",
       "      <td>0</td>\n",
       "      <td>0</td>\n",
       "      <td>0</td>\n",
       "      <td>0</td>\n",
       "      <td>0</td>\n",
       "    </tr>\n",
       "    <tr>\n",
       "      <th>1</th>\n",
       "      <td>0</td>\n",
       "      <td>49</td>\n",
       "      <td>0</td>\n",
       "      <td>80</td>\n",
       "      <td>0.012270</td>\n",
       "      <td>0.0</td>\n",
       "      <td>0.0</td>\n",
       "      <td>0.0</td>\n",
       "      <td>0.0</td>\n",
       "      <td>0.0</td>\n",
       "      <td>0.0</td>\n",
       "      <td>0.0</td>\n",
       "      <td>0.0</td>\n",
       "      <td>0</td>\n",
       "      <td>0</td>\n",
       "      <td>0</td>\n",
       "      <td>0</td>\n",
       "      <td>0</td>\n",
       "      <td>0</td>\n",
       "      <td>0</td>\n",
       "    </tr>\n",
       "    <tr>\n",
       "      <th>2</th>\n",
       "      <td>0</td>\n",
       "      <td>49</td>\n",
       "      <td>0</td>\n",
       "      <td>45</td>\n",
       "      <td>0.000435</td>\n",
       "      <td>0.0</td>\n",
       "      <td>0.0</td>\n",
       "      <td>0.0</td>\n",
       "      <td>0.0</td>\n",
       "      <td>0.0</td>\n",
       "      <td>0.0</td>\n",
       "      <td>0.0</td>\n",
       "      <td>0.0</td>\n",
       "      <td>0</td>\n",
       "      <td>0</td>\n",
       "      <td>0</td>\n",
       "      <td>0</td>\n",
       "      <td>0</td>\n",
       "      <td>0</td>\n",
       "      <td>0</td>\n",
       "    </tr>\n",
       "    <tr>\n",
       "      <th>3</th>\n",
       "      <td>0</td>\n",
       "      <td>49</td>\n",
       "      <td>0</td>\n",
       "      <td>25</td>\n",
       "      <td>0.033174</td>\n",
       "      <td>0.0</td>\n",
       "      <td>0.0</td>\n",
       "      <td>0.0</td>\n",
       "      <td>0.0</td>\n",
       "      <td>0.0</td>\n",
       "      <td>0.0</td>\n",
       "      <td>0.0</td>\n",
       "      <td>0.0</td>\n",
       "      <td>0</td>\n",
       "      <td>0</td>\n",
       "      <td>0</td>\n",
       "      <td>0</td>\n",
       "      <td>0</td>\n",
       "      <td>1</td>\n",
       "      <td>0</td>\n",
       "    </tr>\n",
       "    <tr>\n",
       "      <th>4</th>\n",
       "      <td>0</td>\n",
       "      <td>49</td>\n",
       "      <td>0</td>\n",
       "      <td>66</td>\n",
       "      <td>0.405166</td>\n",
       "      <td>0.0</td>\n",
       "      <td>0.0</td>\n",
       "      <td>0.0</td>\n",
       "      <td>0.0</td>\n",
       "      <td>0.0</td>\n",
       "      <td>0.0</td>\n",
       "      <td>0.0</td>\n",
       "      <td>0.0</td>\n",
       "      <td>0</td>\n",
       "      <td>0</td>\n",
       "      <td>0</td>\n",
       "      <td>0</td>\n",
       "      <td>0</td>\n",
       "      <td>0</td>\n",
       "      <td>1</td>\n",
       "    </tr>\n",
       "  </tbody>\n",
       "</table>\n",
       "</div>"
      ],
      "text/plain": [
       "   churned  Tenure  hadGap.  Age  SDOHScore  conditionScore  substanceScore  \\\n",
       "0        0      49        0   59   0.018738             0.0             0.0   \n",
       "1        0      49        0   80   0.012270             0.0             0.0   \n",
       "2        0      49        0   45   0.000435             0.0             0.0   \n",
       "3        0      49        0   25   0.033174             0.0             0.0   \n",
       "4        0      49        0   66   0.405166             0.0             0.0   \n",
       "\n",
       "   physFrailtyScore  mentalFrailtyScore  EDCost  EDCount  IPCost  IPCount  \\\n",
       "0               0.0                 0.0     0.0      0.0     0.0      0.0   \n",
       "1               0.0                 0.0     0.0      0.0     0.0      0.0   \n",
       "2               0.0                 0.0     0.0      0.0     0.0      0.0   \n",
       "3               0.0                 0.0     0.0      0.0     0.0      0.0   \n",
       "4               0.0                 0.0     0.0      0.0     0.0      0.0   \n",
       "\n",
       "   LOB_LOB2  LOB_LOB3  LOB_LOB6  LOB_LOB7  LOB_LOB8  State_NC  State_OH  \n",
       "0         1         0         0         0         0         0         0  \n",
       "1         0         0         0         0         0         0         0  \n",
       "2         0         0         0         0         0         0         0  \n",
       "3         0         0         0         0         0         1         0  \n",
       "4         0         0         0         0         0         0         1  "
      ]
     },
     "execution_count": 229,
     "metadata": {},
     "output_type": "execute_result"
    }
   ],
   "source": [
    "df_final.head()"
   ]
  },
  {
   "cell_type": "markdown",
   "metadata": {},
   "source": [
    "# Creating Dummy Variables and Standardizing the data"
   ]
  },
  {
   "cell_type": "code",
   "execution_count": 230,
   "metadata": {},
   "outputs": [
    {
     "data": {
      "text/plain": [
       "Index(['LOB', 'churned', 'Tenure', 'hadGap.', 'Age', 'SDOHScore',\n",
       "       'conditionScore', 'substanceScore', 'physFrailtyScore',\n",
       "       'mentalFrailtyScore', 'EDCost', 'EDCount', 'IPCost', 'IPCount',\n",
       "       'State'],\n",
       "      dtype='object')"
      ]
     },
     "execution_count": 230,
     "metadata": {},
     "output_type": "execute_result"
    }
   ],
   "source": [
    "df.columns"
   ]
  },
  {
   "cell_type": "code",
   "execution_count": 431,
   "metadata": {},
   "outputs": [
    {
     "data": {
      "text/html": [
       "<div>\n",
       "<style scoped>\n",
       "    .dataframe tbody tr th:only-of-type {\n",
       "        vertical-align: middle;\n",
       "    }\n",
       "\n",
       "    .dataframe tbody tr th {\n",
       "        vertical-align: top;\n",
       "    }\n",
       "\n",
       "    .dataframe thead th {\n",
       "        text-align: right;\n",
       "    }\n",
       "</style>\n",
       "<table border=\"1\" class=\"dataframe\">\n",
       "  <thead>\n",
       "    <tr style=\"text-align: right;\">\n",
       "      <th></th>\n",
       "      <th>Tenure</th>\n",
       "      <th>hadGap.</th>\n",
       "      <th>Age</th>\n",
       "      <th>SDOHScore</th>\n",
       "      <th>conditionScore</th>\n",
       "      <th>substanceScore</th>\n",
       "      <th>physFrailtyScore</th>\n",
       "      <th>mentalFrailtyScore</th>\n",
       "      <th>EDCost</th>\n",
       "      <th>EDCount</th>\n",
       "      <th>IPCost</th>\n",
       "      <th>IPCount</th>\n",
       "      <th>LOB_LOB2</th>\n",
       "      <th>LOB_LOB3</th>\n",
       "      <th>LOB_LOB6</th>\n",
       "      <th>LOB_LOB7</th>\n",
       "      <th>LOB_LOB8</th>\n",
       "      <th>State_NC</th>\n",
       "      <th>State_OH</th>\n",
       "    </tr>\n",
       "  </thead>\n",
       "  <tbody>\n",
       "    <tr>\n",
       "      <th>0</th>\n",
       "      <td>-1.110542</td>\n",
       "      <td>0</td>\n",
       "      <td>-0.059842</td>\n",
       "      <td>-0.464426</td>\n",
       "      <td>-0.869158</td>\n",
       "      <td>-0.507276</td>\n",
       "      <td>-0.744768</td>\n",
       "      <td>0.0</td>\n",
       "      <td>-0.409801</td>\n",
       "      <td>-0.444491</td>\n",
       "      <td>-0.27492</td>\n",
       "      <td>-0.33293</td>\n",
       "      <td>1</td>\n",
       "      <td>0</td>\n",
       "      <td>0</td>\n",
       "      <td>0</td>\n",
       "      <td>0</td>\n",
       "      <td>0</td>\n",
       "      <td>0</td>\n",
       "    </tr>\n",
       "    <tr>\n",
       "      <th>1</th>\n",
       "      <td>-1.110542</td>\n",
       "      <td>0</td>\n",
       "      <td>1.355102</td>\n",
       "      <td>-0.477324</td>\n",
       "      <td>-0.869158</td>\n",
       "      <td>-0.507276</td>\n",
       "      <td>-0.744768</td>\n",
       "      <td>0.0</td>\n",
       "      <td>-0.409801</td>\n",
       "      <td>-0.444491</td>\n",
       "      <td>-0.27492</td>\n",
       "      <td>-0.33293</td>\n",
       "      <td>0</td>\n",
       "      <td>0</td>\n",
       "      <td>0</td>\n",
       "      <td>0</td>\n",
       "      <td>0</td>\n",
       "      <td>0</td>\n",
       "      <td>0</td>\n",
       "    </tr>\n",
       "    <tr>\n",
       "      <th>2</th>\n",
       "      <td>-1.110542</td>\n",
       "      <td>0</td>\n",
       "      <td>-1.003138</td>\n",
       "      <td>-0.500927</td>\n",
       "      <td>-0.869158</td>\n",
       "      <td>-0.507276</td>\n",
       "      <td>-0.744768</td>\n",
       "      <td>0.0</td>\n",
       "      <td>-0.409801</td>\n",
       "      <td>-0.444491</td>\n",
       "      <td>-0.27492</td>\n",
       "      <td>-0.33293</td>\n",
       "      <td>0</td>\n",
       "      <td>0</td>\n",
       "      <td>0</td>\n",
       "      <td>0</td>\n",
       "      <td>0</td>\n",
       "      <td>0</td>\n",
       "      <td>0</td>\n",
       "    </tr>\n",
       "    <tr>\n",
       "      <th>3</th>\n",
       "      <td>-1.110542</td>\n",
       "      <td>0</td>\n",
       "      <td>-2.350704</td>\n",
       "      <td>-0.435635</td>\n",
       "      <td>-0.869158</td>\n",
       "      <td>-0.507276</td>\n",
       "      <td>-0.744768</td>\n",
       "      <td>0.0</td>\n",
       "      <td>-0.409801</td>\n",
       "      <td>-0.444491</td>\n",
       "      <td>-0.27492</td>\n",
       "      <td>-0.33293</td>\n",
       "      <td>0</td>\n",
       "      <td>0</td>\n",
       "      <td>0</td>\n",
       "      <td>0</td>\n",
       "      <td>0</td>\n",
       "      <td>1</td>\n",
       "      <td>0</td>\n",
       "    </tr>\n",
       "    <tr>\n",
       "      <th>4</th>\n",
       "      <td>-1.110542</td>\n",
       "      <td>0</td>\n",
       "      <td>0.411806</td>\n",
       "      <td>0.306243</td>\n",
       "      <td>-0.869158</td>\n",
       "      <td>-0.507276</td>\n",
       "      <td>-0.744768</td>\n",
       "      <td>0.0</td>\n",
       "      <td>-0.409801</td>\n",
       "      <td>-0.444491</td>\n",
       "      <td>-0.27492</td>\n",
       "      <td>-0.33293</td>\n",
       "      <td>0</td>\n",
       "      <td>0</td>\n",
       "      <td>0</td>\n",
       "      <td>0</td>\n",
       "      <td>0</td>\n",
       "      <td>0</td>\n",
       "      <td>1</td>\n",
       "    </tr>\n",
       "  </tbody>\n",
       "</table>\n",
       "</div>"
      ],
      "text/plain": [
       "     Tenure  hadGap.       Age  SDOHScore  conditionScore  substanceScore  \\\n",
       "0 -1.110542        0 -0.059842  -0.464426       -0.869158       -0.507276   \n",
       "1 -1.110542        0  1.355102  -0.477324       -0.869158       -0.507276   \n",
       "2 -1.110542        0 -1.003138  -0.500927       -0.869158       -0.507276   \n",
       "3 -1.110542        0 -2.350704  -0.435635       -0.869158       -0.507276   \n",
       "4 -1.110542        0  0.411806   0.306243       -0.869158       -0.507276   \n",
       "\n",
       "   physFrailtyScore  mentalFrailtyScore    EDCost   EDCount   IPCost  IPCount  \\\n",
       "0         -0.744768                 0.0 -0.409801 -0.444491 -0.27492 -0.33293   \n",
       "1         -0.744768                 0.0 -0.409801 -0.444491 -0.27492 -0.33293   \n",
       "2         -0.744768                 0.0 -0.409801 -0.444491 -0.27492 -0.33293   \n",
       "3         -0.744768                 0.0 -0.409801 -0.444491 -0.27492 -0.33293   \n",
       "4         -0.744768                 0.0 -0.409801 -0.444491 -0.27492 -0.33293   \n",
       "\n",
       "   LOB_LOB2  LOB_LOB3  LOB_LOB6  LOB_LOB7  LOB_LOB8  State_NC  State_OH  \n",
       "0         1         0         0         0         0         0         0  \n",
       "1         0         0         0         0         0         0         0  \n",
       "2         0         0         0         0         0         0         0  \n",
       "3         0         0         0         0         0         1         0  \n",
       "4         0         0         0         0         0         0         1  "
      ]
     },
     "execution_count": 431,
     "metadata": {},
     "output_type": "execute_result"
    }
   ],
   "source": [
    "\n",
    "df_final_X = df_final.drop(['churned'],axis =1)\n",
    "df_final_Y = df_final['churned']\n",
    "#df_final_X=(df_final_X-df_final_X.mean())/df_final_X.std()\n",
    "\n",
    "# numerical features\n",
    "num_cols = ['Tenure','Age','SDOHScore','conditionScore','substanceScore','physFrailtyScore','EDCost','EDCount','IPCost','IPCount']\n",
    "\n",
    "# apply standardization on numerical features\n",
    "for i in num_cols:\n",
    "    \n",
    "    # fit on training data column\n",
    "    scale = StandardScaler().fit(df_final_X[[i]])\n",
    "    df_final_X[i] = scale.transform(df_final_X[[i]])\n",
    "#df_final_X = df_final_X/df_final_X.max()\n",
    "\n",
    "df_final_X.head()\n"
   ]
  },
  {
   "cell_type": "code",
   "execution_count": 432,
   "metadata": {},
   "outputs": [
    {
     "data": {
      "text/html": [
       "<div>\n",
       "<style scoped>\n",
       "    .dataframe tbody tr th:only-of-type {\n",
       "        vertical-align: middle;\n",
       "    }\n",
       "\n",
       "    .dataframe tbody tr th {\n",
       "        vertical-align: top;\n",
       "    }\n",
       "\n",
       "    .dataframe thead th {\n",
       "        text-align: right;\n",
       "    }\n",
       "</style>\n",
       "<table border=\"1\" class=\"dataframe\">\n",
       "  <thead>\n",
       "    <tr style=\"text-align: right;\">\n",
       "      <th></th>\n",
       "      <th>Tenure</th>\n",
       "      <th>hadGap.</th>\n",
       "      <th>Age</th>\n",
       "      <th>SDOHScore</th>\n",
       "      <th>conditionScore</th>\n",
       "      <th>substanceScore</th>\n",
       "      <th>physFrailtyScore</th>\n",
       "      <th>mentalFrailtyScore</th>\n",
       "      <th>EDCost</th>\n",
       "      <th>EDCount</th>\n",
       "      <th>IPCost</th>\n",
       "      <th>IPCount</th>\n",
       "      <th>LOB_LOB2</th>\n",
       "      <th>LOB_LOB3</th>\n",
       "      <th>LOB_LOB6</th>\n",
       "      <th>LOB_LOB7</th>\n",
       "      <th>LOB_LOB8</th>\n",
       "      <th>State_NC</th>\n",
       "      <th>State_OH</th>\n",
       "    </tr>\n",
       "  </thead>\n",
       "  <tbody>\n",
       "    <tr>\n",
       "      <th>count</th>\n",
       "      <td>5.947100e+04</td>\n",
       "      <td>59471.000000</td>\n",
       "      <td>5.947100e+04</td>\n",
       "      <td>5.947100e+04</td>\n",
       "      <td>5.947100e+04</td>\n",
       "      <td>5.947100e+04</td>\n",
       "      <td>5.947100e+04</td>\n",
       "      <td>59471.000000</td>\n",
       "      <td>5.947100e+04</td>\n",
       "      <td>5.947100e+04</td>\n",
       "      <td>5.947100e+04</td>\n",
       "      <td>5.947100e+04</td>\n",
       "      <td>59471.000000</td>\n",
       "      <td>59471.000000</td>\n",
       "      <td>59471.000000</td>\n",
       "      <td>59471.000000</td>\n",
       "      <td>59471.000000</td>\n",
       "      <td>59471.000000</td>\n",
       "      <td>59471.000000</td>\n",
       "    </tr>\n",
       "    <tr>\n",
       "      <th>mean</th>\n",
       "      <td>3.112134e-14</td>\n",
       "      <td>0.104673</td>\n",
       "      <td>-9.856121e-16</td>\n",
       "      <td>-1.190603e-15</td>\n",
       "      <td>-2.686241e-14</td>\n",
       "      <td>-7.404617e-15</td>\n",
       "      <td>-5.627528e-14</td>\n",
       "      <td>0.229128</td>\n",
       "      <td>-2.859517e-15</td>\n",
       "      <td>-9.771199e-15</td>\n",
       "      <td>-2.805067e-14</td>\n",
       "      <td>-4.134504e-14</td>\n",
       "      <td>0.109616</td>\n",
       "      <td>0.015150</td>\n",
       "      <td>0.002791</td>\n",
       "      <td>0.005179</td>\n",
       "      <td>0.007029</td>\n",
       "      <td>0.036320</td>\n",
       "      <td>0.037934</td>\n",
       "    </tr>\n",
       "    <tr>\n",
       "      <th>std</th>\n",
       "      <td>1.000008e+00</td>\n",
       "      <td>0.306134</td>\n",
       "      <td>1.000008e+00</td>\n",
       "      <td>1.000008e+00</td>\n",
       "      <td>1.000008e+00</td>\n",
       "      <td>1.000008e+00</td>\n",
       "      <td>1.000008e+00</td>\n",
       "      <td>0.250560</td>\n",
       "      <td>1.000008e+00</td>\n",
       "      <td>1.000008e+00</td>\n",
       "      <td>1.000008e+00</td>\n",
       "      <td>1.000008e+00</td>\n",
       "      <td>0.312414</td>\n",
       "      <td>0.122151</td>\n",
       "      <td>0.052759</td>\n",
       "      <td>0.071779</td>\n",
       "      <td>0.083543</td>\n",
       "      <td>0.187087</td>\n",
       "      <td>0.191039</td>\n",
       "    </tr>\n",
       "    <tr>\n",
       "      <th>min</th>\n",
       "      <td>-1.145203e+00</td>\n",
       "      <td>0.000000</td>\n",
       "      <td>-3.024486e+00</td>\n",
       "      <td>-5.017953e-01</td>\n",
       "      <td>-8.691577e-01</td>\n",
       "      <td>-5.072761e-01</td>\n",
       "      <td>-7.447676e-01</td>\n",
       "      <td>0.000000</td>\n",
       "      <td>-4.098008e-01</td>\n",
       "      <td>-4.444910e-01</td>\n",
       "      <td>-2.749201e-01</td>\n",
       "      <td>-3.329299e-01</td>\n",
       "      <td>0.000000</td>\n",
       "      <td>0.000000</td>\n",
       "      <td>0.000000</td>\n",
       "      <td>0.000000</td>\n",
       "      <td>0.000000</td>\n",
       "      <td>0.000000</td>\n",
       "      <td>0.000000</td>\n",
       "    </tr>\n",
       "    <tr>\n",
       "      <th>25%</th>\n",
       "      <td>-7.893995e-01</td>\n",
       "      <td>0.000000</td>\n",
       "      <td>-5.988681e-01</td>\n",
       "      <td>-4.944444e-01</td>\n",
       "      <td>-8.691577e-01</td>\n",
       "      <td>-5.072761e-01</td>\n",
       "      <td>-7.447676e-01</td>\n",
       "      <td>0.000000</td>\n",
       "      <td>-4.098008e-01</td>\n",
       "      <td>-4.444910e-01</td>\n",
       "      <td>-2.749201e-01</td>\n",
       "      <td>-3.329299e-01</td>\n",
       "      <td>0.000000</td>\n",
       "      <td>0.000000</td>\n",
       "      <td>0.000000</td>\n",
       "      <td>0.000000</td>\n",
       "      <td>0.000000</td>\n",
       "      <td>0.000000</td>\n",
       "      <td>0.000000</td>\n",
       "    </tr>\n",
       "    <tr>\n",
       "      <th>50%</th>\n",
       "      <td>-3.140516e-01</td>\n",
       "      <td>0.000000</td>\n",
       "      <td>7.491474e-02</td>\n",
       "      <td>-4.401479e-01</td>\n",
       "      <td>-1.851453e-01</td>\n",
       "      <td>-5.072761e-01</td>\n",
       "      <td>-7.447676e-01</td>\n",
       "      <td>0.000000</td>\n",
       "      <td>-3.883174e-01</td>\n",
       "      <td>-1.520080e-01</td>\n",
       "      <td>-2.749201e-01</td>\n",
       "      <td>-3.329299e-01</td>\n",
       "      <td>0.000000</td>\n",
       "      <td>0.000000</td>\n",
       "      <td>0.000000</td>\n",
       "      <td>0.000000</td>\n",
       "      <td>0.000000</td>\n",
       "      <td>0.000000</td>\n",
       "      <td>0.000000</td>\n",
       "    </tr>\n",
       "    <tr>\n",
       "      <th>75%</th>\n",
       "      <td>5.248809e-01</td>\n",
       "      <td>0.000000</td>\n",
       "      <td>6.813193e-01</td>\n",
       "      <td>3.321687e-02</td>\n",
       "      <td>4.988671e-01</td>\n",
       "      <td>-5.072761e-01</td>\n",
       "      <td>3.106097e-01</td>\n",
       "      <td>0.500000</td>\n",
       "      <td>4.009483e-03</td>\n",
       "      <td>1.404751e-01</td>\n",
       "      <td>-2.749201e-01</td>\n",
       "      <td>-3.329299e-01</td>\n",
       "      <td>0.000000</td>\n",
       "      <td>0.000000</td>\n",
       "      <td>0.000000</td>\n",
       "      <td>0.000000</td>\n",
       "      <td>0.000000</td>\n",
       "      <td>0.000000</td>\n",
       "      <td>0.000000</td>\n",
       "    </tr>\n",
       "    <tr>\n",
       "      <th>max</th>\n",
       "      <td>2.074713e+00</td>\n",
       "      <td>1.000000</td>\n",
       "      <td>3.174316e+00</td>\n",
       "      <td>1.568313e+01</td>\n",
       "      <td>3.690925e+00</td>\n",
       "      <td>5.939383e+00</td>\n",
       "      <td>6.642874e+00</td>\n",
       "      <td>1.000000</td>\n",
       "      <td>2.952045e+01</td>\n",
       "      <td>3.523844e+01</td>\n",
       "      <td>2.653319e+01</td>\n",
       "      <td>2.456893e+01</td>\n",
       "      <td>1.000000</td>\n",
       "      <td>1.000000</td>\n",
       "      <td>1.000000</td>\n",
       "      <td>1.000000</td>\n",
       "      <td>1.000000</td>\n",
       "      <td>1.000000</td>\n",
       "      <td>1.000000</td>\n",
       "    </tr>\n",
       "  </tbody>\n",
       "</table>\n",
       "</div>"
      ],
      "text/plain": [
       "             Tenure       hadGap.           Age     SDOHScore  conditionScore  \\\n",
       "count  5.947100e+04  59471.000000  5.947100e+04  5.947100e+04    5.947100e+04   \n",
       "mean   3.112134e-14      0.104673 -9.856121e-16 -1.190603e-15   -2.686241e-14   \n",
       "std    1.000008e+00      0.306134  1.000008e+00  1.000008e+00    1.000008e+00   \n",
       "min   -1.145203e+00      0.000000 -3.024486e+00 -5.017953e-01   -8.691577e-01   \n",
       "25%   -7.893995e-01      0.000000 -5.988681e-01 -4.944444e-01   -8.691577e-01   \n",
       "50%   -3.140516e-01      0.000000  7.491474e-02 -4.401479e-01   -1.851453e-01   \n",
       "75%    5.248809e-01      0.000000  6.813193e-01  3.321687e-02    4.988671e-01   \n",
       "max    2.074713e+00      1.000000  3.174316e+00  1.568313e+01    3.690925e+00   \n",
       "\n",
       "       substanceScore  physFrailtyScore  mentalFrailtyScore        EDCost  \\\n",
       "count    5.947100e+04      5.947100e+04        59471.000000  5.947100e+04   \n",
       "mean    -7.404617e-15     -5.627528e-14            0.229128 -2.859517e-15   \n",
       "std      1.000008e+00      1.000008e+00            0.250560  1.000008e+00   \n",
       "min     -5.072761e-01     -7.447676e-01            0.000000 -4.098008e-01   \n",
       "25%     -5.072761e-01     -7.447676e-01            0.000000 -4.098008e-01   \n",
       "50%     -5.072761e-01     -7.447676e-01            0.000000 -3.883174e-01   \n",
       "75%     -5.072761e-01      3.106097e-01            0.500000  4.009483e-03   \n",
       "max      5.939383e+00      6.642874e+00            1.000000  2.952045e+01   \n",
       "\n",
       "            EDCount        IPCost       IPCount      LOB_LOB2      LOB_LOB3  \\\n",
       "count  5.947100e+04  5.947100e+04  5.947100e+04  59471.000000  59471.000000   \n",
       "mean  -9.771199e-15 -2.805067e-14 -4.134504e-14      0.109616      0.015150   \n",
       "std    1.000008e+00  1.000008e+00  1.000008e+00      0.312414      0.122151   \n",
       "min   -4.444910e-01 -2.749201e-01 -3.329299e-01      0.000000      0.000000   \n",
       "25%   -4.444910e-01 -2.749201e-01 -3.329299e-01      0.000000      0.000000   \n",
       "50%   -1.520080e-01 -2.749201e-01 -3.329299e-01      0.000000      0.000000   \n",
       "75%    1.404751e-01 -2.749201e-01 -3.329299e-01      0.000000      0.000000   \n",
       "max    3.523844e+01  2.653319e+01  2.456893e+01      1.000000      1.000000   \n",
       "\n",
       "           LOB_LOB6      LOB_LOB7      LOB_LOB8      State_NC      State_OH  \n",
       "count  59471.000000  59471.000000  59471.000000  59471.000000  59471.000000  \n",
       "mean       0.002791      0.005179      0.007029      0.036320      0.037934  \n",
       "std        0.052759      0.071779      0.083543      0.187087      0.191039  \n",
       "min        0.000000      0.000000      0.000000      0.000000      0.000000  \n",
       "25%        0.000000      0.000000      0.000000      0.000000      0.000000  \n",
       "50%        0.000000      0.000000      0.000000      0.000000      0.000000  \n",
       "75%        0.000000      0.000000      0.000000      0.000000      0.000000  \n",
       "max        1.000000      1.000000      1.000000      1.000000      1.000000  "
      ]
     },
     "execution_count": 432,
     "metadata": {},
     "output_type": "execute_result"
    }
   ],
   "source": [
    "df_final_X.describe()"
   ]
  },
  {
   "cell_type": "markdown",
   "metadata": {},
   "source": [
    "#  Logistic Regression"
   ]
  },
  {
   "cell_type": "code",
   "execution_count": 375,
   "metadata": {},
   "outputs": [],
   "source": [
    "#from imblearn.over_sampling import SMOTE, ADASYN\n",
    "#from imblearn.under_sampling import RandomUnderSampler\n",
    "#from imblearn.pipeline import Pipeline\n",
    "#X_resampled, y_resampled = ADASYN().fit_resample(df_final_X, df_final_Y)\n",
    "\n",
    "#over = SMOTE(sampling_strategy=0.6)\n",
    "#under = RandomUnderSampler(sampling_strategy=0.5)\n",
    "#steps = [('o', over), ('u', under)]\n",
    "#steps = [('u', under)]\n",
    "#pipeline = Pipeline(steps=steps)\n",
    "\n",
    "# transform the dataset\n",
    "#X_resampled, y_resampled = pipeline.fit_resample(df_final_X, df_final_Y)\n"
   ]
  },
  {
   "cell_type": "code",
   "execution_count": 433,
   "metadata": {},
   "outputs": [
    {
     "name": "stdout",
     "output_type": "stream",
     "text": [
      "Optimization terminated successfully.\n",
      "         Current function value: 0.483173\n",
      "         Iterations 7\n",
      "                          Results: Logit\n",
      "===================================================================\n",
      "Model:                Logit            Pseudo R-squared: 0.002     \n",
      "Dependent Variable:   churned          AIC:              57507.6065\n",
      "Date:                 2020-07-27 11:51 BIC:              57678.4781\n",
      "No. Observations:     59471            Log-Likelihood:   -28735.   \n",
      "Df Model:             18               LL-Null:          -28785.   \n",
      "Df Residuals:         59452            LLR p-value:      2.8452e-13\n",
      "Converged:            1.0000           Scale:            1.0000    \n",
      "No. Iterations:       7.0000                                       \n",
      "-------------------------------------------------------------------\n",
      "                    Coef.  Std.Err.    z     P>|z|   [0.025  0.975]\n",
      "-------------------------------------------------------------------\n",
      "Tenure             -0.5419   0.0122 -44.5180 0.0000 -0.5657 -0.5180\n",
      "hadGap.            -0.6178   0.0358 -17.2766 0.0000 -0.6879 -0.5477\n",
      "Age                 0.1240   0.0112  11.0439 0.0000  0.1020  0.1460\n",
      "SDOHScore          -0.0524   0.0103  -5.0717 0.0000 -0.0727 -0.0322\n",
      "conditionScore     -0.0944   0.0122  -7.7278 0.0000 -0.1183 -0.0704\n",
      "substanceScore      0.0924   0.0111   8.3142 0.0000  0.0706  0.1142\n",
      "physFrailtyScore    0.2133   0.0121  17.5920 0.0000  0.1895  0.2371\n",
      "mentalFrailtyScore -3.0508   0.0396 -76.9571 0.0000 -3.1285 -2.9731\n",
      "EDCost             -0.3699   0.0250 -14.7974 0.0000 -0.4189 -0.3209\n",
      "EDCount             1.3906   0.0298  46.6592 0.0000  1.3322  1.4490\n",
      "IPCost              0.1848   0.0272   6.7875 0.0000  0.1314  0.2381\n",
      "IPCount             0.5836   0.0284  20.5302 0.0000  0.5279  0.6393\n",
      "LOB_LOB2           -1.2076   0.0369 -32.7261 0.0000 -1.2799 -1.1353\n",
      "LOB_LOB3           -0.7581   0.0821  -9.2330 0.0000 -0.9190 -0.5972\n",
      "LOB_LOB6           -1.0749   0.1994  -5.3919 0.0000 -1.4656 -0.6842\n",
      "LOB_LOB7           -0.2577   0.1533  -1.6807 0.0928 -0.5583  0.0428\n",
      "LOB_LOB8           -0.4426   0.1302  -3.4004 0.0007 -0.6977 -0.1875\n",
      "State_NC           -0.7116   0.0569 -12.5059 0.0000 -0.8231 -0.6001\n",
      "State_OH           -0.2502   0.0556  -4.5006 0.0000 -0.3592 -0.1413\n",
      "===================================================================\n",
      "\n"
     ]
    }
   ],
   "source": [
    "\n",
    "import statsmodels.api as sm\n",
    "logit_model=sm.Logit(df_final_Y,df_final_X)\n",
    "result=logit_model.fit()\n",
    "print(result.summary2())"
   ]
  },
  {
   "cell_type": "markdown",
   "metadata": {},
   "source": [
    "Positive sign of coeffiecent indicates that when increasing the variable, would increase the chances of customer churning."
   ]
  },
  {
   "cell_type": "markdown",
   "metadata": {},
   "source": [
    "Removing columns which are not statistically significant"
   ]
  },
  {
   "cell_type": "code",
   "execution_count": 378,
   "metadata": {},
   "outputs": [],
   "source": [
    "df_final_X.drop(['LOB_LOB7'], inplace = True, axis =1)"
   ]
  },
  {
   "cell_type": "code",
   "execution_count": 379,
   "metadata": {},
   "outputs": [
    {
     "name": "stdout",
     "output_type": "stream",
     "text": [
      "Optimization terminated successfully.\n",
      "         Current function value: 0.483198\n",
      "         Iterations 7\n",
      "                          Results: Logit\n",
      "===================================================================\n",
      "Model:                Logit            Pseudo R-squared: 0.002     \n",
      "Dependent Variable:   churned          AIC:              57508.5035\n",
      "Date:                 2020-07-26 23:50 BIC:              57670.3819\n",
      "No. Observations:     59471            Log-Likelihood:   -28736.   \n",
      "Df Model:             17               LL-Null:          -28785.   \n",
      "Df Residuals:         59453            LLR p-value:      3.9281e-13\n",
      "Converged:            1.0000           Scale:            1.0000    \n",
      "No. Iterations:       7.0000                                       \n",
      "-------------------------------------------------------------------\n",
      "                    Coef.  Std.Err.    z     P>|z|   [0.025  0.975]\n",
      "-------------------------------------------------------------------\n",
      "Tenure             -0.5417   0.0122 -44.5057 0.0000 -0.5656 -0.5178\n",
      "hadGap.            -0.6182   0.0358 -17.2896 0.0000 -0.6883 -0.5481\n",
      "Age                 0.1237   0.0112  11.0219 0.0000  0.1017  0.1457\n",
      "SDOHScore          -0.0521   0.0103  -5.0398 0.0000 -0.0723 -0.0318\n",
      "conditionScore     -0.0943   0.0122  -7.7228 0.0000 -0.1182 -0.0704\n",
      "substanceScore      0.0923   0.0111   8.3089 0.0000  0.0706  0.1141\n",
      "physFrailtyScore    0.2134   0.0121  17.6024 0.0000  0.1896  0.2372\n",
      "mentalFrailtyScore -3.0506   0.0396 -76.9552 0.0000 -3.1283 -2.9729\n",
      "EDCost             -0.3702   0.0250 -14.8075 0.0000 -0.4191 -0.3212\n",
      "EDCount             1.3913   0.0298  46.6867 0.0000  1.3329  1.4497\n",
      "IPCost              0.1850   0.0272   6.7950 0.0000  0.1316  0.2383\n",
      "IPCount             0.5833   0.0284  20.5204 0.0000  0.5276  0.6390\n",
      "LOB_LOB2           -1.2073   0.0369 -32.7179 0.0000 -1.2796 -1.1350\n",
      "LOB_LOB3           -0.7578   0.0821  -9.2297 0.0000 -0.9188 -0.5969\n",
      "LOB_LOB6           -1.0744   0.1994  -5.3895 0.0000 -1.4651 -0.6837\n",
      "LOB_LOB8           -0.4424   0.1302  -3.3990 0.0007 -0.6976 -0.1873\n",
      "State_NC           -0.7471   0.0531 -14.0647 0.0000 -0.8512 -0.6430\n",
      "State_OH           -0.2502   0.0556  -4.5005 0.0000 -0.3592 -0.1412\n",
      "===================================================================\n",
      "\n"
     ]
    }
   ],
   "source": [
    "logit_model=sm.Logit(df_final_Y,df_final_X)\n",
    "result=logit_model.fit()\n",
    "print(result.summary2())"
   ]
  },
  {
   "cell_type": "code",
   "execution_count": 380,
   "metadata": {},
   "outputs": [],
   "source": [
    "from sklearn.model_selection import train_test_split\n",
    "\n",
    "train_data_X, test_data_X, train_data_Y, test_data_Y = train_test_split(df_final_X, df_final_Y, test_size = 0.2, random_state =100)\n"
   ]
  },
  {
   "cell_type": "markdown",
   "metadata": {},
   "source": [
    "# Logistic Regression"
   ]
  },
  {
   "cell_type": "code",
   "execution_count": 381,
   "metadata": {},
   "outputs": [
    {
     "data": {
      "text/plain": [
       "0.8416428451319993"
      ]
     },
     "execution_count": 381,
     "metadata": {},
     "output_type": "execute_result"
    }
   ],
   "source": [
    "from sklearn.linear_model import LogisticRegression\n",
    "\n",
    "clf = LogisticRegression(random_state=0).fit(train_data_X, train_data_Y)\n",
    "clf.score(train_data_X, train_data_Y)"
   ]
  },
  {
   "cell_type": "code",
   "execution_count": 382,
   "metadata": {},
   "outputs": [
    {
     "data": {
      "text/plain": [
       "0.8379991593106347"
      ]
     },
     "execution_count": 382,
     "metadata": {},
     "output_type": "execute_result"
    }
   ],
   "source": [
    "pred_test = clf.predict(test_data_X)\n",
    "clf.score(test_data_X, test_data_Y)"
   ]
  },
  {
   "cell_type": "code",
   "execution_count": 383,
   "metadata": {},
   "outputs": [
    {
     "data": {
      "text/plain": [
       "array([[9335,  291],\n",
       "       [1636,  633]])"
      ]
     },
     "execution_count": 383,
     "metadata": {},
     "output_type": "execute_result"
    }
   ],
   "source": [
    "from sklearn.metrics import confusion_matrix\n",
    "confusion_matrix(test_data_Y, pred_test)"
   ]
  },
  {
   "cell_type": "code",
   "execution_count": 384,
   "metadata": {
    "scrolled": true
   },
   "outputs": [
    {
     "data": {
      "text/html": [
       "<div>\n",
       "<style scoped>\n",
       "    .dataframe tbody tr th:only-of-type {\n",
       "        vertical-align: middle;\n",
       "    }\n",
       "\n",
       "    .dataframe tbody tr th {\n",
       "        vertical-align: top;\n",
       "    }\n",
       "\n",
       "    .dataframe thead th {\n",
       "        text-align: right;\n",
       "    }\n",
       "</style>\n",
       "<table border=\"1\" class=\"dataframe\">\n",
       "  <thead>\n",
       "    <tr style=\"text-align: right;\">\n",
       "      <th></th>\n",
       "      <th>No</th>\n",
       "      <th>Yes</th>\n",
       "      <th>accuracy</th>\n",
       "      <th>macro avg</th>\n",
       "      <th>weighted avg</th>\n",
       "    </tr>\n",
       "  </thead>\n",
       "  <tbody>\n",
       "    <tr>\n",
       "      <th>precision</th>\n",
       "      <td>0.969769</td>\n",
       "      <td>0.278978</td>\n",
       "      <td>0.837999</td>\n",
       "      <td>0.624373</td>\n",
       "      <td>0.916109</td>\n",
       "    </tr>\n",
       "    <tr>\n",
       "      <th>recall</th>\n",
       "      <td>0.850880</td>\n",
       "      <td>0.685065</td>\n",
       "      <td>0.837999</td>\n",
       "      <td>0.767972</td>\n",
       "      <td>0.837999</td>\n",
       "    </tr>\n",
       "    <tr>\n",
       "      <th>f1-score</th>\n",
       "      <td>0.906443</td>\n",
       "      <td>0.396492</td>\n",
       "      <td>0.837999</td>\n",
       "      <td>0.651468</td>\n",
       "      <td>0.866830</td>\n",
       "    </tr>\n",
       "    <tr>\n",
       "      <th>support</th>\n",
       "      <td>10971.000000</td>\n",
       "      <td>924.000000</td>\n",
       "      <td>0.837999</td>\n",
       "      <td>11895.000000</td>\n",
       "      <td>11895.000000</td>\n",
       "    </tr>\n",
       "  </tbody>\n",
       "</table>\n",
       "</div>"
      ],
      "text/plain": [
       "                     No         Yes  accuracy     macro avg  weighted avg\n",
       "precision      0.969769    0.278978  0.837999      0.624373      0.916109\n",
       "recall         0.850880    0.685065  0.837999      0.767972      0.837999\n",
       "f1-score       0.906443    0.396492  0.837999      0.651468      0.866830\n",
       "support    10971.000000  924.000000  0.837999  11895.000000  11895.000000"
      ]
     },
     "execution_count": 384,
     "metadata": {},
     "output_type": "execute_result"
    }
   ],
   "source": [
    "report = classification_report(pred_test,test_data_Y, target_names = ['No','Yes'], output_dict=True)\n",
    "df_report = pd.DataFrame(report)\n",
    "df_report"
   ]
  },
  {
   "cell_type": "markdown",
   "metadata": {},
   "source": [
    "A macro-average will compute the metric independently for each class and then take the average (hence treating all classes equally), whereas a micro-average will aggregate the contributions of all classes to compute the average metric. "
   ]
  },
  {
   "cell_type": "code",
   "execution_count": 385,
   "metadata": {},
   "outputs": [],
   "source": [
    "pred_test = clf.predict_proba(test_data_X)"
   ]
  },
  {
   "cell_type": "code",
   "execution_count": 386,
   "metadata": {},
   "outputs": [
    {
     "data": {
      "image/png": "[encoded data removed]",
      "text/plain": [
       "<Figure size 432x288 with 1 Axes>"
      ]
     },
     "metadata": {
      "needs_background": "light"
     },
     "output_type": "display_data"
    }
   ],
   "source": [
    "from sklearn import metrics\n",
    "y_pred_proba = clf.predict_proba(test_data_X)[::,1]\n",
    "fpr, tpr, _ = metrics.roc_curve(test_data_Y,  y_pred_proba)\n",
    "auc = metrics.roc_auc_score(test_data_Y, y_pred_proba)\n",
    "plt.plot(fpr,tpr,label=\"ROC for Logistic Regression , auc=\"+str(auc))\n",
    "plt.legend(loc=4)\n",
    "plt.show()"
   ]
  },
  {
   "cell_type": "markdown",
   "metadata": {},
   "source": [
    "# Random Forest"
   ]
  },
  {
   "cell_type": "code",
   "execution_count": 391,
   "metadata": {},
   "outputs": [],
   "source": [
    "from sklearn.model_selection import train_test_split\n",
    "\n",
    "train_data, test_data = train_test_split(df_final, test_size = 0.2, random_state =100)\n",
    "train_data.head()\n",
    "\n",
    "train_data_X = train_data.drop(['churned'], axis =1)\n",
    "train_data_Y = train_data['churned']\n",
    "#print(train_data_Y.head())\n",
    "#print(train_data_X.head())\n",
    "test_data_X = test_data.drop(['churned'], axis =1)\n",
    "test_data_Y = test_data['churned']"
   ]
  },
  {
   "cell_type": "code",
   "execution_count": 392,
   "metadata": {},
   "outputs": [
    {
     "name": "stdout",
     "output_type": "stream",
     "text": [
      "Fitting 3 folds for each of 54 candidates, totalling 162 fits\n"
     ]
    },
    {
     "name": "stderr",
     "output_type": "stream",
     "text": [
      "[Parallel(n_jobs=-1)]: Using backend LokyBackend with 12 concurrent workers.\n",
      "[Parallel(n_jobs=-1)]: Done  26 tasks      | elapsed:   44.0s\n",
      "[Parallel(n_jobs=-1)]: Done 162 out of 162 | elapsed:  6.5min finished\n"
     ]
    }
   ],
   "source": [
    "from sklearn.model_selection import GridSearchCV\n",
    "from sklearn.ensemble import RandomForestClassifier\n",
    "\n",
    "n_estimators = [300, 500, 800]\n",
    "max_depth = [8, 15, 25]\n",
    "min_samples_split = [5, 10, 15]\n",
    "min_samples_leaf = [10, 50] \n",
    "estimator= RandomForestClassifier()\n",
    "hyperF = dict(n_estimators = n_estimators, max_depth = max_depth,  \n",
    "              min_samples_split = min_samples_split, \n",
    "             min_samples_leaf = min_samples_leaf)\n",
    "\n",
    "gridF = GridSearchCV(estimator, hyperF, cv = 3, verbose = 1, \n",
    "                      n_jobs = -1)\n",
    "bestF = gridF.fit(train_data_X, train_data_Y)"
   ]
  },
  {
   "cell_type": "markdown",
   "metadata": {},
   "source": [
    "Some Key points to remember while choosing hyper parameters of Random Forest, to avoid Overfitting:\n",
    "    1. n_estimators- The more the number of trees, the less likely the model is to overfit. So we should increase the number of trees to increase diversity\n",
    "    2. max_features - Try decreasing this number. The more option we will give to the tree, the tree will pick the same predictor for spitting. So same kind of trees will be used always\n",
    "    3. Max_depth - This paramter will reduce the complexity of the learned models, lowering overfitting risk.\n",
    "    4. Min_samples_leaf- Make sure it is greater than one. "
   ]
  },
  {
   "cell_type": "code",
   "execution_count": 393,
   "metadata": {},
   "outputs": [
    {
     "data": {
      "text/plain": [
       "0.905834874726753"
      ]
     },
     "execution_count": 393,
     "metadata": {},
     "output_type": "execute_result"
    }
   ],
   "source": [
    "pred_train = bestF.predict(train_data_X)\n",
    "accuracy_train = accuracy_score(pred_train,train_data_Y)\n",
    "accuracy_train"
   ]
  },
  {
   "cell_type": "code",
   "execution_count": 394,
   "metadata": {},
   "outputs": [
    {
     "data": {
      "text/plain": [
       "0.8685161832702817"
      ]
     },
     "execution_count": 394,
     "metadata": {},
     "output_type": "execute_result"
    }
   ],
   "source": [
    "pred_test = bestF.predict(test_data_X)\n",
    "accuracy_test = accuracy_score(pred_test,test_data_Y)\n",
    "accuracy_test"
   ]
  },
  {
   "cell_type": "code",
   "execution_count": 395,
   "metadata": {},
   "outputs": [
    {
     "name": "stdout",
     "output_type": "stream",
     "text": [
      "{'max_depth': 25, 'min_samples_leaf': 10, 'min_samples_split': 15, 'n_estimators': 500}\n"
     ]
    }
   ],
   "source": [
    "print(bestF.best_params_)"
   ]
  },
  {
   "cell_type": "code",
   "execution_count": 396,
   "metadata": {
    "scrolled": true
   },
   "outputs": [
    {
     "name": "stdout",
     "output_type": "stream",
     "text": [
      "Grid scores on development set:\n",
      "\n",
      "0.862 (+/-0.004) for {'max_depth': 8, 'min_samples_leaf': 10, 'min_samples_split': 5, 'n_estimators': 300}\n",
      "\n",
      "0.862 (+/-0.003) for {'max_depth': 8, 'min_samples_leaf': 10, 'min_samples_split': 5, 'n_estimators': 500}\n",
      "\n",
      "0.863 (+/-0.003) for {'max_depth': 8, 'min_samples_leaf': 10, 'min_samples_split': 5, 'n_estimators': 800}\n",
      "\n",
      "0.862 (+/-0.003) for {'max_depth': 8, 'min_samples_leaf': 10, 'min_samples_split': 10, 'n_estimators': 300}\n",
      "\n",
      "0.863 (+/-0.003) for {'max_depth': 8, 'min_samples_leaf': 10, 'min_samples_split': 10, 'n_estimators': 500}\n",
      "\n",
      "0.862 (+/-0.003) for {'max_depth': 8, 'min_samples_leaf': 10, 'min_samples_split': 10, 'n_estimators': 800}\n",
      "\n",
      "0.862 (+/-0.002) for {'max_depth': 8, 'min_samples_leaf': 10, 'min_samples_split': 15, 'n_estimators': 300}\n",
      "\n",
      "0.863 (+/-0.003) for {'max_depth': 8, 'min_samples_leaf': 10, 'min_samples_split': 15, 'n_estimators': 500}\n",
      "\n",
      "0.862 (+/-0.002) for {'max_depth': 8, 'min_samples_leaf': 10, 'min_samples_split': 15, 'n_estimators': 800}\n",
      "\n",
      "0.860 (+/-0.002) for {'max_depth': 8, 'min_samples_leaf': 50, 'min_samples_split': 5, 'n_estimators': 300}\n",
      "\n",
      "0.860 (+/-0.002) for {'max_depth': 8, 'min_samples_leaf': 50, 'min_samples_split': 5, 'n_estimators': 500}\n",
      "\n",
      "0.860 (+/-0.003) for {'max_depth': 8, 'min_samples_leaf': 50, 'min_samples_split': 5, 'n_estimators': 800}\n",
      "\n",
      "0.860 (+/-0.002) for {'max_depth': 8, 'min_samples_leaf': 50, 'min_samples_split': 10, 'n_estimators': 300}\n",
      "\n",
      "0.860 (+/-0.002) for {'max_depth': 8, 'min_samples_leaf': 50, 'min_samples_split': 10, 'n_estimators': 500}\n",
      "\n",
      "0.860 (+/-0.002) for {'max_depth': 8, 'min_samples_leaf': 50, 'min_samples_split': 10, 'n_estimators': 800}\n",
      "\n",
      "0.859 (+/-0.004) for {'max_depth': 8, 'min_samples_leaf': 50, 'min_samples_split': 15, 'n_estimators': 300}\n",
      "\n",
      "0.860 (+/-0.002) for {'max_depth': 8, 'min_samples_leaf': 50, 'min_samples_split': 15, 'n_estimators': 500}\n",
      "\n",
      "0.860 (+/-0.002) for {'max_depth': 8, 'min_samples_leaf': 50, 'min_samples_split': 15, 'n_estimators': 800}\n",
      "\n",
      "0.868 (+/-0.003) for {'max_depth': 15, 'min_samples_leaf': 10, 'min_samples_split': 5, 'n_estimators': 300}\n",
      "\n",
      "0.869 (+/-0.003) for {'max_depth': 15, 'min_samples_leaf': 10, 'min_samples_split': 5, 'n_estimators': 500}\n",
      "\n",
      "0.868 (+/-0.003) for {'max_depth': 15, 'min_samples_leaf': 10, 'min_samples_split': 5, 'n_estimators': 800}\n",
      "\n",
      "0.869 (+/-0.003) for {'max_depth': 15, 'min_samples_leaf': 10, 'min_samples_split': 10, 'n_estimators': 300}\n",
      "\n",
      "0.868 (+/-0.002) for {'max_depth': 15, 'min_samples_leaf': 10, 'min_samples_split': 10, 'n_estimators': 500}\n",
      "\n",
      "0.868 (+/-0.002) for {'max_depth': 15, 'min_samples_leaf': 10, 'min_samples_split': 10, 'n_estimators': 800}\n",
      "\n",
      "0.868 (+/-0.003) for {'max_depth': 15, 'min_samples_leaf': 10, 'min_samples_split': 15, 'n_estimators': 300}\n",
      "\n",
      "0.868 (+/-0.002) for {'max_depth': 15, 'min_samples_leaf': 10, 'min_samples_split': 15, 'n_estimators': 500}\n",
      "\n",
      "0.868 (+/-0.001) for {'max_depth': 15, 'min_samples_leaf': 10, 'min_samples_split': 15, 'n_estimators': 800}\n",
      "\n",
      "0.863 (+/-0.003) for {'max_depth': 15, 'min_samples_leaf': 50, 'min_samples_split': 5, 'n_estimators': 300}\n",
      "\n",
      "0.863 (+/-0.002) for {'max_depth': 15, 'min_samples_leaf': 50, 'min_samples_split': 5, 'n_estimators': 500}\n",
      "\n",
      "0.863 (+/-0.001) for {'max_depth': 15, 'min_samples_leaf': 50, 'min_samples_split': 5, 'n_estimators': 800}\n",
      "\n",
      "0.863 (+/-0.002) for {'max_depth': 15, 'min_samples_leaf': 50, 'min_samples_split': 10, 'n_estimators': 300}\n",
      "\n",
      "0.863 (+/-0.002) for {'max_depth': 15, 'min_samples_leaf': 50, 'min_samples_split': 10, 'n_estimators': 500}\n",
      "\n",
      "0.863 (+/-0.001) for {'max_depth': 15, 'min_samples_leaf': 50, 'min_samples_split': 10, 'n_estimators': 800}\n",
      "\n",
      "0.863 (+/-0.001) for {'max_depth': 15, 'min_samples_leaf': 50, 'min_samples_split': 15, 'n_estimators': 300}\n",
      "\n",
      "0.863 (+/-0.002) for {'max_depth': 15, 'min_samples_leaf': 50, 'min_samples_split': 15, 'n_estimators': 500}\n",
      "\n",
      "0.864 (+/-0.002) for {'max_depth': 15, 'min_samples_leaf': 50, 'min_samples_split': 15, 'n_estimators': 800}\n",
      "\n",
      "0.869 (+/-0.003) for {'max_depth': 25, 'min_samples_leaf': 10, 'min_samples_split': 5, 'n_estimators': 300}\n",
      "\n",
      "0.869 (+/-0.003) for {'max_depth': 25, 'min_samples_leaf': 10, 'min_samples_split': 5, 'n_estimators': 500}\n",
      "\n",
      "0.869 (+/-0.002) for {'max_depth': 25, 'min_samples_leaf': 10, 'min_samples_split': 5, 'n_estimators': 800}\n",
      "\n",
      "0.869 (+/-0.002) for {'max_depth': 25, 'min_samples_leaf': 10, 'min_samples_split': 10, 'n_estimators': 300}\n",
      "\n",
      "0.869 (+/-0.001) for {'max_depth': 25, 'min_samples_leaf': 10, 'min_samples_split': 10, 'n_estimators': 500}\n",
      "\n",
      "0.869 (+/-0.003) for {'max_depth': 25, 'min_samples_leaf': 10, 'min_samples_split': 10, 'n_estimators': 800}\n",
      "\n",
      "0.869 (+/-0.004) for {'max_depth': 25, 'min_samples_leaf': 10, 'min_samples_split': 15, 'n_estimators': 300}\n",
      "\n",
      "0.869 (+/-0.001) for {'max_depth': 25, 'min_samples_leaf': 10, 'min_samples_split': 15, 'n_estimators': 500}\n",
      "\n",
      "0.869 (+/-0.002) for {'max_depth': 25, 'min_samples_leaf': 10, 'min_samples_split': 15, 'n_estimators': 800}\n",
      "\n",
      "0.863 (+/-0.002) for {'max_depth': 25, 'min_samples_leaf': 50, 'min_samples_split': 5, 'n_estimators': 300}\n",
      "\n",
      "0.863 (+/-0.002) for {'max_depth': 25, 'min_samples_leaf': 50, 'min_samples_split': 5, 'n_estimators': 500}\n",
      "\n",
      "0.863 (+/-0.001) for {'max_depth': 25, 'min_samples_leaf': 50, 'min_samples_split': 5, 'n_estimators': 800}\n",
      "\n",
      "0.863 (+/-0.001) for {'max_depth': 25, 'min_samples_leaf': 50, 'min_samples_split': 10, 'n_estimators': 300}\n",
      "\n",
      "0.863 (+/-0.002) for {'max_depth': 25, 'min_samples_leaf': 50, 'min_samples_split': 10, 'n_estimators': 500}\n",
      "\n",
      "0.863 (+/-0.002) for {'max_depth': 25, 'min_samples_leaf': 50, 'min_samples_split': 10, 'n_estimators': 800}\n",
      "\n",
      "0.863 (+/-0.002) for {'max_depth': 25, 'min_samples_leaf': 50, 'min_samples_split': 15, 'n_estimators': 300}\n",
      "\n",
      "0.863 (+/-0.002) for {'max_depth': 25, 'min_samples_leaf': 50, 'min_samples_split': 15, 'n_estimators': 500}\n",
      "\n",
      "0.863 (+/-0.002) for {'max_depth': 25, 'min_samples_leaf': 50, 'min_samples_split': 15, 'n_estimators': 800}\n",
      "\n"
     ]
    }
   ],
   "source": [
    "print(\"Grid scores on development set:\")\n",
    "print()\n",
    "means = bestF.cv_results_['mean_test_score']\n",
    "stds = bestF.cv_results_['std_test_score']\n",
    "for mean, std, params in zip(means, stds, bestF.cv_results_['params']):\n",
    "    print(\"%0.3f (+/-%0.03f) for %r\"% (mean, std * 2, params))\n",
    "    print()"
   ]
  },
  {
   "cell_type": "code",
   "execution_count": 397,
   "metadata": {},
   "outputs": [
    {
     "data": {
      "text/html": [
       "<div>\n",
       "<style scoped>\n",
       "    .dataframe tbody tr th:only-of-type {\n",
       "        vertical-align: middle;\n",
       "    }\n",
       "\n",
       "    .dataframe tbody tr th {\n",
       "        vertical-align: top;\n",
       "    }\n",
       "\n",
       "    .dataframe thead th {\n",
       "        text-align: right;\n",
       "    }\n",
       "</style>\n",
       "<table border=\"1\" class=\"dataframe\">\n",
       "  <thead>\n",
       "    <tr style=\"text-align: right;\">\n",
       "      <th></th>\n",
       "      <th>precision</th>\n",
       "      <th>recall</th>\n",
       "      <th>f1-score</th>\n",
       "      <th>support</th>\n",
       "    </tr>\n",
       "  </thead>\n",
       "  <tbody>\n",
       "    <tr>\n",
       "      <th>No</th>\n",
       "      <td>0.955745</td>\n",
       "      <td>0.889921</td>\n",
       "      <td>0.921659</td>\n",
       "      <td>10338.000000</td>\n",
       "    </tr>\n",
       "    <tr>\n",
       "      <th>Yes</th>\n",
       "      <td>0.498457</td>\n",
       "      <td>0.726397</td>\n",
       "      <td>0.591218</td>\n",
       "      <td>1557.000000</td>\n",
       "    </tr>\n",
       "    <tr>\n",
       "      <th>accuracy</th>\n",
       "      <td>0.868516</td>\n",
       "      <td>0.868516</td>\n",
       "      <td>0.868516</td>\n",
       "      <td>0.868516</td>\n",
       "    </tr>\n",
       "    <tr>\n",
       "      <th>macro avg</th>\n",
       "      <td>0.727101</td>\n",
       "      <td>0.808159</td>\n",
       "      <td>0.756438</td>\n",
       "      <td>11895.000000</td>\n",
       "    </tr>\n",
       "    <tr>\n",
       "      <th>weighted avg</th>\n",
       "      <td>0.895888</td>\n",
       "      <td>0.868516</td>\n",
       "      <td>0.878406</td>\n",
       "      <td>11895.000000</td>\n",
       "    </tr>\n",
       "  </tbody>\n",
       "</table>\n",
       "</div>"
      ],
      "text/plain": [
       "              precision    recall  f1-score       support\n",
       "No             0.955745  0.889921  0.921659  10338.000000\n",
       "Yes            0.498457  0.726397  0.591218   1557.000000\n",
       "accuracy       0.868516  0.868516  0.868516      0.868516\n",
       "macro avg      0.727101  0.808159  0.756438  11895.000000\n",
       "weighted avg   0.895888  0.868516  0.878406  11895.000000"
      ]
     },
     "execution_count": 397,
     "metadata": {},
     "output_type": "execute_result"
    }
   ],
   "source": [
    "report = classification_report(pred_test,test_data_Y, target_names = ['No','Yes'], output_dict=True)\n",
    "df_report = pd.DataFrame(report).transpose()\n",
    "df_report"
   ]
  },
  {
   "cell_type": "code",
   "execution_count": 398,
   "metadata": {},
   "outputs": [
    {
     "data": {
      "image/png": "[encoded data removed]",
      "text/plain": [
       "<Figure size 432x288 with 1 Axes>"
      ]
     },
     "metadata": {
      "needs_background": "light"
     },
     "output_type": "display_data"
    }
   ],
   "source": [
    "importances = bestF.best_estimator_.feature_importances_\n",
    "# Sort feature importances in descending order\n",
    "indices = np.argsort(importances)[::-1]\n",
    "\n",
    "# Rearrange feature names so they match the sorted feature importances\n",
    "names = [train_data_X.columns[i] for i in indices]\n",
    "\n",
    "# Create plot\n",
    "plt.figure()\n",
    "\n",
    "# Create plot title\n",
    "plt.title(\"Feature Importance\")\n",
    "\n",
    "# Add bars\n",
    "plt.bar(range(train_data_X.shape[1]), importances[indices])\n",
    "\n",
    "# Add feature names as x-axis labels\n",
    "plt.xticks(range(train_data_X.shape[1]), names, rotation=90)\n",
    "\n",
    "# Show plot\n",
    "plt.show()"
   ]
  },
  {
   "cell_type": "code",
   "execution_count": 399,
   "metadata": {},
   "outputs": [
    {
     "data": {
      "image/png": "[encoded data removed]",
      "text/plain": [
       "<Figure size 432x288 with 1 Axes>"
      ]
     },
     "metadata": {
      "needs_background": "light"
     },
     "output_type": "display_data"
    }
   ],
   "source": [
    "from sklearn import metrics\n",
    "y_pred_proba = bestF.predict_proba(test_data_X)[::,1]\n",
    "fpr, tpr, _ = metrics.roc_curve(test_data_Y,  y_pred_proba)\n",
    "auc = metrics.roc_auc_score(test_data_Y, y_pred_proba)\n",
    "plt.plot(fpr,tpr,label=\"ROC for Random Forest , auc=\"+str(auc))\n",
    "plt.legend(loc=4)\n",
    "plt.show()"
   ]
  },
  {
   "cell_type": "markdown",
   "metadata": {},
   "source": [
    "# Model Comparision"
   ]
  },
  {
   "cell_type": "markdown",
   "metadata": {},
   "source": [
    "We now have to decide which model is better. \n",
    "\n",
    "There are 2 criterias, I will follow:\n",
    "    1. First find out Precision is more important or Recall\n",
    "    2. Area Under the Curve"
   ]
  },
  {
   "cell_type": "markdown",
   "metadata": {},
   "source": [
    "Precision Vs Recall"
   ]
  },
  {
   "cell_type": "markdown",
   "metadata": {},
   "source": [
    "If a customer who is not likely to churn and our model predicts that customer will churn & accordingly we send them offers/deals. So even if that customer receives this marketing message, we should be less corned about that. This is precision. How many predicted churn customers will actually churn"
   ]
  },
  {
   "cell_type": "markdown",
   "metadata": {},
   "source": [
    "If we are missing out on customers who will churn and do not send them offers then that would be more crucial in our case. This is Recall. Recall is basically finding out how many of the customers who will actually churn, did we find out correctly. "
   ]
  },
  {
   "cell_type": "markdown",
   "metadata": {},
   "source": [
    "ROC curve makes it easy to identify the best threshold value for making a decision.\n",
    "AUC curve can help us find out which model is better, because it doesn't worry about the threshold value that we choose to make decision. "
   ]
  },
  {
   "cell_type": "markdown",
   "metadata": {},
   "source": [
    "First based on AUC, definetly Random Forest performed better than Logistic Regression.\n",
    "\n",
    "Next, we can see precision, recall values for different thresholds and then can choose the most with the highest recall value"
   ]
  },
  {
   "cell_type": "markdown",
   "metadata": {},
   "source": [
    "# Observation"
   ]
  },
  {
   "cell_type": "markdown",
   "metadata": {},
   "source": [
    "The number of visits to the hospital or the cost incured by the insurance company for the employee, tenure with the company are the most prominent features in estimating whether a customer will churn or not.\n",
    "\n",
    "Suprisingly, location does not play a major role in estimating the churn ratio.\n",
    "\n",
    "Also, Age, condition score, number of hospital visits are somewhat correlated. "
   ]
  },
  {
   "cell_type": "markdown",
   "metadata": {},
   "source": [
    "Random Forest advantages:\n",
    "    1. Can handle outliers\n",
    "    2. Implicitly does feature selection"
   ]
  },
  {
   "cell_type": "code",
   "execution_count": 402,
   "metadata": {},
   "outputs": [
    {
     "data": {
      "text/plain": [
       "array([[9200,  426],\n",
       "       [1138, 1131]])"
      ]
     },
     "execution_count": 402,
     "metadata": {},
     "output_type": "execute_result"
    }
   ],
   "source": [
    "confusion_matrix(test_data_Y, pred_test)"
   ]
  },
  {
   "cell_type": "code",
   "execution_count": 427,
   "metadata": {},
   "outputs": [],
   "source": [
    "df_data1 = pd.concat([test_data_X,test_data_Y], axis =1)"
   ]
  },
  {
   "cell_type": "code",
   "execution_count": 428,
   "metadata": {},
   "outputs": [
    {
     "data": {
      "text/html": [
       "<div>\n",
       "<style scoped>\n",
       "    .dataframe tbody tr th:only-of-type {\n",
       "        vertical-align: middle;\n",
       "    }\n",
       "\n",
       "    .dataframe tbody tr th {\n",
       "        vertical-align: top;\n",
       "    }\n",
       "\n",
       "    .dataframe thead th {\n",
       "        text-align: right;\n",
       "    }\n",
       "</style>\n",
       "<table border=\"1\" class=\"dataframe\">\n",
       "  <thead>\n",
       "    <tr style=\"text-align: right;\">\n",
       "      <th></th>\n",
       "      <th>Tenure</th>\n",
       "      <th>hadGap.</th>\n",
       "      <th>Age</th>\n",
       "      <th>SDOHScore</th>\n",
       "      <th>conditionScore</th>\n",
       "      <th>substanceScore</th>\n",
       "      <th>physFrailtyScore</th>\n",
       "      <th>mentalFrailtyScore</th>\n",
       "      <th>EDCost</th>\n",
       "      <th>EDCount</th>\n",
       "      <th>...</th>\n",
       "      <th>IPCount</th>\n",
       "      <th>LOB_LOB2</th>\n",
       "      <th>LOB_LOB3</th>\n",
       "      <th>LOB_LOB6</th>\n",
       "      <th>LOB_LOB7</th>\n",
       "      <th>LOB_LOB8</th>\n",
       "      <th>State_NC</th>\n",
       "      <th>State_OH</th>\n",
       "      <th>churned</th>\n",
       "      <th>pred_churn</th>\n",
       "    </tr>\n",
       "  </thead>\n",
       "  <tbody>\n",
       "    <tr>\n",
       "      <th>66644</th>\n",
       "      <td>1661</td>\n",
       "      <td>1</td>\n",
       "      <td>80</td>\n",
       "      <td>0.372665</td>\n",
       "      <td>0.30</td>\n",
       "      <td>0.0</td>\n",
       "      <td>0.000000</td>\n",
       "      <td>0.0</td>\n",
       "      <td>2345.2</td>\n",
       "      <td>1.0</td>\n",
       "      <td>...</td>\n",
       "      <td>0.0</td>\n",
       "      <td>0</td>\n",
       "      <td>0</td>\n",
       "      <td>0</td>\n",
       "      <td>0</td>\n",
       "      <td>0</td>\n",
       "      <td>0</td>\n",
       "      <td>0</td>\n",
       "      <td>0</td>\n",
       "      <td>0.119292</td>\n",
       "    </tr>\n",
       "    <tr>\n",
       "      <th>2700</th>\n",
       "      <td>200</td>\n",
       "      <td>0</td>\n",
       "      <td>85</td>\n",
       "      <td>0.551966</td>\n",
       "      <td>0.35</td>\n",
       "      <td>0.0</td>\n",
       "      <td>0.111111</td>\n",
       "      <td>0.0</td>\n",
       "      <td>0.0</td>\n",
       "      <td>0.0</td>\n",
       "      <td>...</td>\n",
       "      <td>0.0</td>\n",
       "      <td>0</td>\n",
       "      <td>0</td>\n",
       "      <td>0</td>\n",
       "      <td>0</td>\n",
       "      <td>0</td>\n",
       "      <td>0</td>\n",
       "      <td>0</td>\n",
       "      <td>0</td>\n",
       "      <td>0.001286</td>\n",
       "    </tr>\n",
       "    <tr>\n",
       "      <th>17750</th>\n",
       "      <td>748</td>\n",
       "      <td>0</td>\n",
       "      <td>74</td>\n",
       "      <td>0.167148</td>\n",
       "      <td>0.35</td>\n",
       "      <td>0.0</td>\n",
       "      <td>0.000000</td>\n",
       "      <td>0.0</td>\n",
       "      <td>0.0</td>\n",
       "      <td>0.0</td>\n",
       "      <td>...</td>\n",
       "      <td>0.0</td>\n",
       "      <td>0</td>\n",
       "      <td>0</td>\n",
       "      <td>0</td>\n",
       "      <td>0</td>\n",
       "      <td>0</td>\n",
       "      <td>0</td>\n",
       "      <td>0</td>\n",
       "      <td>0</td>\n",
       "      <td>0.000514</td>\n",
       "    </tr>\n",
       "    <tr>\n",
       "      <th>15021</th>\n",
       "      <td>626</td>\n",
       "      <td>0</td>\n",
       "      <td>53</td>\n",
       "      <td>0.113066</td>\n",
       "      <td>0.00</td>\n",
       "      <td>0.0</td>\n",
       "      <td>0.000000</td>\n",
       "      <td>0.0</td>\n",
       "      <td>0.0</td>\n",
       "      <td>0.0</td>\n",
       "      <td>...</td>\n",
       "      <td>0.0</td>\n",
       "      <td>0</td>\n",
       "      <td>0</td>\n",
       "      <td>0</td>\n",
       "      <td>0</td>\n",
       "      <td>0</td>\n",
       "      <td>0</td>\n",
       "      <td>0</td>\n",
       "      <td>0</td>\n",
       "      <td>0.000209</td>\n",
       "    </tr>\n",
       "    <tr>\n",
       "      <th>7102</th>\n",
       "      <td>353</td>\n",
       "      <td>0</td>\n",
       "      <td>33</td>\n",
       "      <td>0.006363</td>\n",
       "      <td>0.00</td>\n",
       "      <td>0.0</td>\n",
       "      <td>0.111111</td>\n",
       "      <td>0.5</td>\n",
       "      <td>233.3</td>\n",
       "      <td>2.0</td>\n",
       "      <td>...</td>\n",
       "      <td>0.0</td>\n",
       "      <td>0</td>\n",
       "      <td>0</td>\n",
       "      <td>0</td>\n",
       "      <td>0</td>\n",
       "      <td>0</td>\n",
       "      <td>0</td>\n",
       "      <td>0</td>\n",
       "      <td>0</td>\n",
       "      <td>0.390262</td>\n",
       "    </tr>\n",
       "  </tbody>\n",
       "</table>\n",
       "<p>5 rows × 21 columns</p>\n",
       "</div>"
      ],
      "text/plain": [
       "       Tenure  hadGap.  Age  SDOHScore  conditionScore  substanceScore  \\\n",
       "66644    1661        1   80   0.372665            0.30             0.0   \n",
       "2700      200        0   85   0.551966            0.35             0.0   \n",
       "17750     748        0   74   0.167148            0.35             0.0   \n",
       "15021     626        0   53   0.113066            0.00             0.0   \n",
       "7102      353        0   33   0.006363            0.00             0.0   \n",
       "\n",
       "       physFrailtyScore  mentalFrailtyScore  EDCost  EDCount  ...  IPCount  \\\n",
       "66644          0.000000                 0.0  2345.2      1.0  ...      0.0   \n",
       "2700           0.111111                 0.0     0.0      0.0  ...      0.0   \n",
       "17750          0.000000                 0.0     0.0      0.0  ...      0.0   \n",
       "15021          0.000000                 0.0     0.0      0.0  ...      0.0   \n",
       "7102           0.111111                 0.5   233.3      2.0  ...      0.0   \n",
       "\n",
       "       LOB_LOB2  LOB_LOB3  LOB_LOB6  LOB_LOB7  LOB_LOB8  State_NC  State_OH  \\\n",
       "66644         0         0         0         0         0         0         0   \n",
       "2700          0         0         0         0         0         0         0   \n",
       "17750         0         0         0         0         0         0         0   \n",
       "15021         0         0         0         0         0         0         0   \n",
       "7102          0         0         0         0         0         0         0   \n",
       "\n",
       "       churned  pred_churn  \n",
       "66644        0    0.119292  \n",
       "2700         0    0.001286  \n",
       "17750        0    0.000514  \n",
       "15021        0    0.000209  \n",
       "7102         0    0.390262  \n",
       "\n",
       "[5 rows x 21 columns]"
      ]
     },
     "execution_count": 428,
     "metadata": {},
     "output_type": "execute_result"
    }
   ],
   "source": [
    "df_data2 = pd.concat([df_data1,pd.Series(y_pred_proba, index = test_data_Y.index)], axis =1)\n",
    "df_data2 = df_data2.rename(columns={0:'pred_churn'})\n",
    "df_data2.head()"
   ]
  },
  {
   "cell_type": "code",
   "execution_count": null,
   "metadata": {},
   "outputs": [],
   "source": []
  }
 ],
 "metadata": {
  "kernelspec": {
   "display_name": "Python 3",
   "language": "python",
   "name": "python3"
  },
  "language_info": {
   "codemirror_mode": {
    "name": "ipython",
    "version": 3
   },
   "file_extension": ".py",
   "mimetype": "text/x-python",
   "name": "python",
   "nbconvert_exporter": "python",
   "pygments_lexer": "ipython3",
   "version": "3.7.3"
  }
 },
 "nbformat": 4,
 "nbformat_minor": 2
}
